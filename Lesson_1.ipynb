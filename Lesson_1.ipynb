"cells": [
  {
   "cell_type": "markdown",
   "metadata": {},
   "source": [
    "# Ð¢ÐµÐ¾Ñ€Ð¸Ñ Ð²ÐµÑ€Ð¾ÑÑ‚Ð½Ð¾ÑÑ‚ÐµÐ¹ Ð¸ Ð¼Ð°Ñ‚ÐµÐ¼Ð°Ñ‚Ð¸Ñ‡ÐµÑÐºÐ°Ñ ÑÑ‚Ð°Ñ‚Ð¸ÑÑ‚Ð¸ÐºÐ°\n",
    "\n",
    "* 8 Ð²ÐµÐ±Ð¸Ð½Ð°Ñ€Ð¾Ð², 4 Ð½ÐµÐ´ÐµÐ»Ð¸.\n",
    "* Ð’ ÐºÐ¾Ð½Ñ†Ðµ ÐºÑƒÑ€ÑÐ° â€” Ð¿Ñ€Ð¾ÐµÐºÑ‚Ð½Ð°Ñ Ñ€Ð°Ð±Ð¾Ñ‚Ð° (Ð¿Ð¾Ð´Ñ€Ð¾Ð±Ð½ÐµÐµ Ð½Ð° Ð·Ð°Ð½ÑÑ‚Ð¸Ð¸ 6).\n",
    "* Ð¡Ñ€Ð¾Ðº ÑÐ´Ð°Ñ‡Ð¸ Ð´Ð¾Ð¼Ð°ÑˆÐµÐº Ð½Ð° Ð¿Ð¾Ñ€Ñ‚Ð°Ð»Ðµ â€” Ð´Ð¾ Ð½Ð°Ñ‡Ð°Ð»Ð° ÑÐ»ÐµÐ´ÑƒÑŽÑ‰ÐµÐ³Ð¾ Ð·Ð°Ð½ÑÑ‚Ð¸Ñ.\n",
    "* Ð•ÑÐ»Ð¸ Ð½Ðµ ÑƒÑÐ¿ÐµÐ²Ð°ÐµÑ‚Ðµ â€” Ð¿Ð¾ Ð´Ð¾Ð³Ð¾Ð²Ð¾Ñ€Ñ‘Ð½Ð½Ð¾ÑÑ‚Ð¸ Ð¼Ð¾Ð¶Ð½Ð¾ ÑÑ‚Ð°Ð²Ð¸Ñ‚ÑŒ Ð·Ð°Ð³Ð»ÑƒÑˆÐºÐ¸.\n",
    "    - Ð§ÐµÑ€ÐµÐ· Ð¼ÐµÑÑÑ† Ð²ÑÐµ Ð·Ð°Ð³Ð»ÑƒÑˆÐºÐ¸ ÑÐ½Ð¸Ð¼Ð°ÑŽÑ‚ÑÑ.\n",
    "    - ÐŸÐ¾ Ð³Ð¾Ñ‚Ð¾Ð²Ð½Ð¾ÑÑ‚Ð¸ Ð´Ð¾Ð¼Ð°ÑˆÐºÐ¸ Ð½Ð°Ð´Ð¾ Ð¼Ð½Ðµ Ð½Ð°Ð¿Ð¸ÑÐ°Ñ‚ÑŒ.\n",
    "* Ð”Ð¾Ð¼Ð°ÑˆÐºÐ¸ ÑƒÐ´Ð¾Ð±Ð½ÐµÐµ Ð²ÑÐµÐ³Ð¾ ÑÐ´Ð°Ð²Ð°Ñ‚ÑŒ Ð² jupyter-Ð½Ð¾ÑƒÑ‚Ð±ÑƒÐºÐ°Ñ…:\n",
    "    - Ñ‡ÐµÑ€ÐµÐ· github\n",
    "    - Ñ‡ÐµÑ€ÐµÐ· google colaboratory\n",
    "    - Ñ„Ð°Ð¹Ð»Ð¾Ð¼\n",
    "* Ð”Ð¾Ð¼Ð°ÑˆÐºÐ¸ Ð½ÑƒÐ¶Ð½Ð¾ Ð¾Ñ„Ð¾Ñ€Ð¼Ð»ÑÑ‚ÑŒ Ð¿Ð¾Ð´Ñ€Ð¾Ð±Ð½Ð¾, Ñ‡Ñ‚Ð¾Ð±Ñ‹ Ð¼Ð¾Ð¶Ð½Ð¾ Ð±Ñ‹Ð»Ð¾ Ð¿Ñ€Ð¾ÑÐ»ÐµÐ´Ð¸Ñ‚ÑŒ Ñ…Ð¾Ð´ Ñ€Ð°ÑÑÑƒÐ¶Ð´ÐµÐ½Ð¸Ñ.\n",
    "* Ð§Ñ‚Ð¾ ÑÑ‚Ð¾Ð¸Ñ‚ Ð·Ð½Ð°Ñ‚ÑŒ Ðº ÑÑ‚Ð¾Ð¼Ñƒ ÐºÑƒÑ€ÑÑƒ:\n",
    "    - python (`numpy`, `pandas`)\n",
    "    - Ð¼Ð°Ñ‚ÐµÐ¼Ð°Ñ‚Ð¸ÐºÐ° (Ð½Ð° Ð¾Ð±Ñ‰ÐµÐ¼ ÑƒÑ€Ð¾Ð²Ð½Ðµ; Ðº ÐºÐ¾Ð½Ñ†Ñƒ ÐºÑƒÑ€ÑÐ° Ð¿Ñ€Ð¸Ð³Ð¾Ð´Ð¸Ñ‚ÑÑ Ð¿Ð¾Ð½Ð¸Ð¼Ð°Ð½Ð¸Ðµ, ÐºÐ°Ðº Ñ€Ð°Ð±Ð¾Ñ‚Ð°Ñ‚ÑŒ Ñ Ð²ÐµÐºÑ‚Ð¾Ñ€Ð°Ð¼Ð¸ Ð¸ Ð¼Ð°Ñ‚Ñ€Ð¸Ñ†Ð°Ð¼Ð¸: [Ð¼Ð¾Ð¹ Ð²ÐµÐ±Ð¸Ð½Ð°Ñ€ Ð¿Ñ€Ð¾ ÑÑ‚Ð¾](https://geekbrains.ru/events/1248))"
   ]
  },
  {
   "cell_type": "markdown",
   "metadata": {},
   "source": [
    "# Ð£Ñ€Ð¾Ðº 1\n",
    "\n",
    "## Ð¡Ð»ÑƒÑ‡Ð°Ð¹Ð½Ñ‹Ðµ ÑÐ¾Ð±Ñ‹Ñ‚Ð¸Ñ. Ð£ÑÐ»Ð¾Ð²Ð½Ð°Ñ Ð²ÐµÑ€Ð¾ÑÑ‚Ð½Ð¾ÑÑ‚ÑŒ. Ð¤Ð¾Ñ€Ð¼ÑƒÐ»Ð° Ð‘Ð°Ð¹ÐµÑÐ°.  ÐÐµÐ·Ð°Ð²Ð¸ÑÐ¸Ð¼Ñ‹Ðµ Ð¸ÑÐ¿Ñ‹Ñ‚Ð°Ð½Ð¸Ñ"
   ]
  },
  {
   "cell_type": "markdown",
   "metadata": {},
   "source": [
    "### Ð¡Ð»ÑƒÑ‡Ð°Ð¹Ð½Ñ‹Ðµ ÑÐ¾Ð±Ñ‹Ñ‚Ð¸Ñ\n",
    "\n",
    "__Ð¡Ð»ÑƒÑ‡Ð°Ð¹Ð½Ð¾Ðµ ÑÐ¾Ð±Ñ‹Ñ‚Ð¸Ðµ__ â€” Ð»ÑŽÐ±Ð¾Ð¹ Ð¸ÑÑ…Ð¾Ð´ Ð¾Ð¿Ñ‹Ñ‚Ð°, ÐºÐ¾Ñ‚Ð¾Ñ€Ñ‹Ð¹ Ð¼Ð¾Ð¶ÐµÑ‚ Ð¿Ñ€Ð¾Ð¸Ð·Ð¾Ð¹Ñ‚Ð¸ Ð¸Ð»Ð¸ Ð½Ðµ Ð¿Ñ€Ð¾Ð¸Ð·Ð¾Ð¹Ñ‚Ð¸.\n",
    "\n",
    "ÐÐ°Ð¿Ñ€Ð¸Ð¼ÐµÑ€,\n",
    "1. ÐŸÑ€Ð¸ Ð±Ñ€Ð¾ÑÐºÐµ Ð´Ð²ÑƒÑ… Ð¸Ð³Ñ€Ð°Ð»ÑŒÐ½Ñ‹Ñ… ÐºÐ¾ÑÑ‚ÐµÐ¹ Ð½Ð° Ð¾Ð´Ð½Ð¾Ð¹ Ð²Ñ‹Ð¿Ð°Ð»Ð¾ Ñ‡Ð¸ÑÐ»Ð¾ $1$, Ð° Ð½Ð° Ð´Ñ€ÑƒÐ³Ð¾Ð¹ â€” $2$.\n",
    "2. ÐšÐ»Ð¸ÐµÐ½Ñ‚ Ð±Ð°Ð½ÐºÐ° Ð½Ðµ Ð²ÐµÑ€Ð½ÑƒÐ» ÐºÑ€ÐµÐ´Ð¸Ñ‚.\n",
    "3. Ð¢ÐµÐ¼Ð¿ÐµÑ€Ð°Ñ‚ÑƒÑ€Ð° Ð²Ð¾Ð·Ð´ÑƒÑ…Ð° Ð² ÐœÐ¾ÑÐºÐ²Ðµ Ð·Ð° Ð¿Ð¾ÑÐ»ÐµÐ´Ð½Ð¸Ðµ Ð´ÐµÑÑÑ‚ÑŒ Ð´Ð½ÐµÐ¹ Ð½Ðµ Ð¿Ñ€ÐµÐ²Ñ‹ÑˆÐ°Ð»Ð° $29$ Ð³Ñ€Ð°Ð´ÑƒÑÐ¾Ð² Ð¿Ð¾ Ð¦ÐµÐ»ÑŒÑÐ¸ÑŽ."
   ]
  },
  {
   "cell_type": "markdown",
   "metadata": {},
   "source": [
    "ÐŸÑƒÑÑ‚ÑŒ $A$ Ð¸ $B$ â€” ÑÐ»ÑƒÑ‡Ð°Ð¹Ð½Ñ‹Ðµ ÑÐ¾Ð±Ñ‹Ñ‚Ð¸Ñ.\n",
    "* __Ð¡ÑƒÐ¼Ð¼Ð°__ ÑÐ¾Ð±Ñ‹Ñ‚Ð¸Ð¹ $A + B$ ÑÐ¾Ð¾Ñ‚Ð²ÐµÑ‚ÑÑ‚Ð²ÑƒÐµÑ‚ Ð½Ð°ÑÑ‚ÑƒÐ¿Ð»ÐµÐ½Ð¸ÑŽ Ñ…Ð¾Ñ‚Ñ Ð±Ñ‹ Ð¾Ð´Ð½Ð¾Ð³Ð¾ Ð¸Ð· ÑÐ¾Ð±Ñ‹Ñ‚Ð¸Ð¹ $A$ Ð¸ $B$. Ð¢Ð°ÐºÐ¾Ðµ ÑÐ¾Ð±Ñ‹Ñ‚Ð¸Ðµ Ð¸Ð½Ð¾Ð³Ð´Ð° Ð½Ð°Ð·Ñ‹Ð²Ð°ÑŽÑ‚ __Ð¾Ð±ÑŠÐµÐ´Ð¸Ð½ÐµÐ½Ð¸ÐµÐ¼__.\n",
    "* __ÐŸÑ€Ð¾Ð¸Ð·Ð²ÐµÐ´ÐµÐ½Ð¸Ðµ__ $A \\cdot B$ ÑÐ¾Ð¾Ñ‚Ð²ÐµÑ‚ÑÑ‚Ð²ÑƒÐµÑ‚ Ð½Ð°ÑÑ‚ÑƒÐ¿Ð»ÐµÐ½Ð¸ÑŽ ÑÐ¾Ð±Ñ‹Ñ‚Ð¸Ð¹ $A$ Ð¸ $B$ Ð¾Ð´Ð½Ð¾Ð²Ñ€ÐµÐ¼ÐµÐ½Ð½Ð¾. Ð¢Ð°ÐºÐ¾Ðµ ÑÐ¾Ð±Ñ‹Ñ‚Ð¸Ðµ ÐµÑ‰Ñ‘ Ð½Ð°Ð·Ñ‹Ð²Ð°ÐµÑ‚ÑÑ __ÑÐ¾Ð²Ð¼ÐµÑÑ‚Ð½Ñ‹Ð¼__.\n",
    "* __ÐžÑ‚Ñ€Ð¸Ñ†Ð°Ð½Ð¸Ðµ__ $\\overline{A}$ ÑÐ¾Ð¾Ñ‚Ð²ÐµÑ‚ÑÑ‚Ð²ÑƒÐµÑ‚ Ñ‚Ð¾Ð¼Ñƒ, Ñ‡Ñ‚Ð¾ ÑÐ¾Ð±Ñ‹Ñ‚Ð¸Ðµ $A$ Ð½Ðµ Ð½Ð°ÑÑ‚ÑƒÐ¿Ð¸Ð»Ð¾. Ð¢Ð°ÐºÐ¾Ðµ ÑÐ¾Ð±Ñ‹Ñ‚Ð¸Ðµ Ñ‚Ð°ÐºÐ¶Ðµ Ð½Ð°Ð·Ñ‹Ð²Ð°ÐµÑ‚ÑÑ __Ð´Ð¾Ð¿Ð¾Ð»Ð½ÐµÐ½Ð¸ÐµÐ¼__."
   ]
  },
  {
   "cell_type": "markdown",
   "metadata": {},
   "source": [
    "Ð¡Ð¾Ð±Ñ‹Ñ‚Ð¸Ðµ Ð½Ð°Ð·Ñ‹Ð²Ð°ÐµÑ‚ÑÑ __Ð´Ð¾ÑÑ‚Ð¾Ð²ÐµÑ€Ð½Ñ‹Ð¼__, ÐµÑÐ»Ð¸ Ð² Ñ€ÐµÐ·ÑƒÐ»ÑŒÑ‚Ð°Ñ‚Ðµ Ð¸ÑÐ¿Ñ‹Ñ‚Ð°Ð½Ð¸Ñ Ð¾Ð½Ð¾ Ð¾Ð±ÑÐ·Ð°Ñ‚ÐµÐ»ÑŒÐ½Ð¾ Ð¿Ñ€Ð¾Ð¸Ð·Ð¾Ð¹Ð´Ñ‘Ñ‚. \n",
    "\n",
    "ÐÐ°Ð¿Ñ€Ð¸Ð¼ÐµÑ€,\n",
    "1. ÐÐ° Ð¸Ð³Ñ€Ð°Ð»ÑŒÐ½Ð¾Ð¹ ÐºÐ¾ÑÑ‚Ð¸ Ð²Ñ‹Ð¿Ð°Ð»Ð¾ Ñ‡Ð¸ÑÐ»Ð¾, Ð½Ðµ Ð¿Ñ€ÐµÐ²Ñ‹ÑˆÐ°ÑŽÑ‰ÐµÐµ $6$.\n",
    "2. ÐŸÐ¾Ð´Ð±Ñ€Ð¾ÑÐ¸Ð»Ð¸ Ð¼Ð¾Ð½ÐµÑ‚Ñƒ, Ð¸ Ð²Ñ‹Ð¿Ð°Ð» Ð»Ð¸Ð±Ð¾ Ð¾Ñ€Ñ‘Ð», Ð»Ð¸Ð±Ð¾ Ñ€ÐµÑˆÐºÐ°.\n",
    "3. ÐœÐ¾Ð½ÐµÑ‚Ñƒ Ð¿Ð¾Ð´Ð±Ñ€Ð¾ÑÐ¸Ð»Ð¸ ÑÑ‚Ð¾ÐºÑ€Ð°Ñ‚Ð½Ð¾, Ð¸ Ñ€ÐµÑˆÐºÐ° Ð²Ñ‹Ð¿Ð°Ð»Ð° Ð½Ðµ Ð±Ð¾Ð»ÐµÐµ $100$ Ñ€Ð°Ð·.\n",
    "\n",
    "ÐÐ°Ð¾Ð±Ð¾Ñ€Ð¾Ñ‚, __Ð½ÐµÐ²Ð¾Ð·Ð¼Ð¾Ð¶Ð½Ñ‹Ð¼ ÑÐ¾Ð±Ñ‹Ñ‚Ð¸ÐµÐ¼__ Ð¼Ñ‹ Ð½Ð°Ð·Ñ‹Ð²Ð°ÐµÐ¼ ÑÐ¾Ð±Ñ‹Ñ‚Ð¸Ðµ, ÐºÐ¾Ñ‚Ð¾Ñ€Ð¾Ðµ Ð½Ð¸ÐºÐ¾Ð³Ð´Ð° Ð½Ðµ Ð¿Ñ€Ð¾Ð¸Ð·Ð¾Ð¹Ð´Ñ‘Ñ‚.\n",
    "\n",
    "ÐÐ°Ð¿Ñ€Ð¸Ð¼ÐµÑ€,\n",
    "1. Ð”Ð²Ðµ Ð¸Ð³Ñ€Ð°Ð»ÑŒÐ½Ñ‹Ðµ ÐºÐ¾ÑÑ‚Ð¸ Ð±Ñ€Ð¾ÑÐ¸Ð»Ð¸ Ð¾Ð´Ð¸Ð½ Ñ€Ð°Ð·, Ð¸ ÑÑƒÐ¼Ð¼Ð° Ð²Ñ‹Ð¿Ð°Ð²ÑˆÐ¸Ñ… Ñ‡Ð¸ÑÐµÐ» ÑÐ¾ÑÑ‚Ð°Ð²Ð¸Ð»Ð° $15$.\n",
    "2. ÐœÐ¾Ð½ÐµÑ‚Ñƒ Ð¿Ð¾Ð´Ð±Ñ€Ð¾ÑÐ¸Ð»Ð¸ ÑÑ‚Ð¾ÐºÑ€Ð°Ñ‚Ð½Ð¾, Ð¸ Ñ€ÐµÑˆÐºÐ° Ð²Ñ‹Ð¿Ð°Ð»Ð° $55$ Ñ€Ð°Ð·, Ð° Ð¾Ñ€Ñ‘Ð» â€” $56$."
   ]
  },
  {
   "cell_type": "markdown",
   "metadata": {},
   "source": [
    "__Ð¡Ð¾Ð²Ð¼ÐµÑÑ‚Ð½Ñ‹Ð¼Ð¸__ Ð½Ð°Ð·Ñ‹Ð²Ð°ÑŽÑ‚ÑÑ ÑÐ¾Ð±Ñ‹Ñ‚Ð¸Ñ, ÐºÐ¾Ñ‚Ð¾Ñ€Ñ‹Ðµ Ð¼Ð¾Ð³ÑƒÑ‚ Ð¿Ñ€Ð¾Ð¸Ð·Ð¾Ð¹Ñ‚Ð¸ Ð²Ð¼ÐµÑÑ‚Ðµ. Ð¡Ð¾Ð¾Ñ‚Ð²ÐµÑ‚ÑÑ‚Ð²ÐµÐ½Ð½Ð¾, __Ð½ÐµÑÐ¾Ð²Ð¼ÐµÑÑ‚Ð½Ñ‹Ð¼Ð¸__ Ð½Ð°Ð·Ñ‹Ð²Ð°ÑŽÑ‚ÑÑ ÑÐ¾Ð±Ñ‹Ñ‚Ð¸Ñ, ÐºÐ¾Ñ‚Ð¾Ñ€Ñ‹Ðµ Ð²Ð¼ÐµÑÑ‚Ðµ ÑÐ»ÑƒÑ‡Ð¸Ñ‚ÑŒÑÑ Ð½Ðµ Ð¼Ð¾Ð³ÑƒÑ‚.\n",
    "\n",
    "ÐÐ°Ð¿Ñ€Ð¸Ð¼ÐµÑ€,\n",
    "* ÐŸÑ€Ð¸ Ð±Ñ€Ð¾ÑÐºÐµ Ð¼Ð¾Ð½ÐµÑ‚Ñ‹ Ð½Ðµ Ð¼Ð¾Ð³ÑƒÑ‚ Ð¾Ð´Ð½Ð¾Ð²Ñ€ÐµÐ¼ÐµÐ½Ð½Ð¾ Ð²Ñ‹Ð¿Ð°ÑÑ‚ÑŒ Ð¾Ñ€Ñ‘Ð» Ð¸ Ñ€ÐµÑˆÐºÐ°.\n",
    "* ÐŸÑ€Ð¸ Ð±Ñ€Ð¾ÑÐºÐµ Ð´Ñ€Ð¾Ñ‚Ð¸ÐºÐ° Ð² ÐºÑ€ÑƒÐ³Ð»ÑƒÑŽ Ð¼Ð¸ÑˆÐµÐ½ÑŒ Ð¼Ð¾Ð¶Ð½Ð¾ Ð¿Ð¾Ð¿Ð°ÑÑ‚ÑŒ Ð¾Ð´Ð½Ð¾Ð²Ñ€ÐµÐ¼ÐµÐ½Ð½Ð¾ Ð² Ð¿Ñ€Ð°Ð²ÑƒÑŽ Ð¿Ð¾Ð»Ð¾Ð²Ð¸Ð½Ñƒ Ð¼Ð¸ÑˆÐµÐ½Ð¸ Ð¸ Ð² Ð½Ð¸Ð¶Ð½ÑŽÑŽ Ð¿Ð¾Ð»Ð¾Ð²Ð¸Ð½Ñƒ."
   ]
  },
  {
   "cell_type": "markdown",
   "metadata": {},
   "source": [
    "### Ð¡Ñ‚Ð°Ñ‚Ð¸ÑÑ‚Ð¸Ñ‡ÐµÑÐºÐ°Ñ Ð²ÐµÑ€Ð¾ÑÑ‚Ð½Ð¾ÑÑ‚ÑŒ\n",
    "\n",
    "__ÐžÑ‚Ð½Ð¾ÑÐ¸Ñ‚ÐµÐ»ÑŒÐ½Ð°Ñ Ñ‡Ð°ÑÑ‚Ð¾Ñ‚Ð°__ ÑÐ»ÑƒÑ‡Ð°Ð¹Ð½Ð¾Ð³Ð¾ ÑÐ¾Ð±Ñ‹Ñ‚Ð¸Ñ â€” ÑÑ‚Ð¾ Ð¾Ñ‚Ð½Ð¾ÑˆÐµÐ½Ð¸Ðµ ÐºÐ¾Ð»Ð¸Ñ‡ÐµÑÑ‚Ð²Ð° Ð¸ÑÐ¿Ñ‹Ñ‚Ð°Ð½Ð¸Ð¹, Ð² ÐºÐ¾Ñ‚Ð¾Ñ€Ñ‹Ñ… Ð´Ð°Ð½Ð½Ð¾Ðµ ÑÐ¾Ð±Ñ‹Ñ‚Ð¸Ðµ ÑÐ¾ÑÑ‚Ð¾ÑÐ»Ð¾ÑÑŒ, Ðº Ð¾Ð±Ñ‰ÐµÐ¼Ñƒ Ñ‡Ð¸ÑÐ»Ñƒ Ð¸ÑÐ¿Ñ‹Ñ‚Ð°Ð½Ð¸Ð¹:\n",
    "$$W(A) = \\frac{m}{n},$$\n",
    "Ð³Ð´Ðµ\n",
    "* $m$ â€” Ñ‡Ð¸ÑÐ»Ð¾ Ð¸ÑÐ¿Ñ‹Ñ‚Ð°Ð½Ð¸Ð¹, Ð² Ñ€ÐµÐ·ÑƒÐ»ÑŒÑ‚Ð°Ñ‚Ðµ ÐºÐ¾Ñ‚Ð¾Ñ€Ñ‹Ñ… Ð¿Ñ€Ð¾Ð¸Ð·Ð¾ÑˆÐ»Ð¾ ÑÐ¾Ð±Ñ‹Ñ‚Ð¸Ðµ $A$,\n",
    "* $n$ â€” Ð¾Ð±Ñ‰ÐµÐµ Ñ‡Ð¸ÑÐ»Ð¾ Ð¸ÑÐ¿Ñ‹Ñ‚Ð°Ð½Ð¸Ð¹."
   ]
  },
  {
   "cell_type": "markdown",
   "metadata": {},
   "source": [
    "__ÐŸÑ€Ð¸Ð¼ÐµÑ€ 1__\n",
    "\n",
    "Ð¡Ð¼Ð¾Ð´ÐµÐ»Ð¸Ñ€ÑƒÐµÐ¼ $60$-ÐºÑ€Ð°Ñ‚Ð½Ð¾Ðµ Ð¿Ð¾Ð´Ð±Ñ€Ð°ÑÑ‹Ð²Ð°Ð½Ð¸Ðµ Ð¸Ð³Ñ€Ð°Ð»ÑŒÐ½Ð¾Ð¹ ÐºÐ¾ÑÑ‚Ð¸ Ñ Ð¿Ð¾Ð¼Ð¾Ñ‰ÑŒÑŽ Ñ„ÑƒÐ½ÐºÑ†Ð¸Ð¸ `randint` Ð¸Ð· Ð¼Ð¾Ð´ÑƒÐ»Ñ `numpy.random`. Ð’ ÑÑ‚Ð¾Ð¼ ÑÐ»ÑƒÑ‡Ð°Ðµ $n = 60$.\n",
    "\n",
    "Ð¡Ð¾Ð±Ñ‹Ñ‚Ð¸ÐµÐ¼ $A$ Ð±ÑƒÐ´ÐµÐ¼ ÑÑ‡Ð¸Ñ‚Ð°Ñ‚ÑŒ Ð²Ñ‹Ð¿Ð°Ð´ÐµÐ½Ð¸Ðµ Ñ‡Ð¸ÑÐ»Ð° $3$. Ð¡Ð¿ÐµÑ€Ð²Ð° Ð½Ð°Ð¹Ð´Ñ‘Ð¼ ÐµÐ³Ð¾ Ð¾Ñ‚Ð½Ð¾ÑÐ¸Ñ‚ÐµÐ»ÑŒÐ½ÑƒÑŽ Ñ‡Ð°ÑÑ‚Ð¾Ñ‚Ñƒ."
   ]
  },
  {
   "cell_type": "code",
   "execution_count": 1,
   "metadata": {},
   "outputs": [],
   "source": [
    "import numpy as np"
   ]
  },
  {
   "cell_type": "code",
   "execution_count": 16,
   "metadata": {},
   "outputs": [
    {
     "name": "stdout",
     "output_type": "stream",
     "text": [
      "[3 5 1 5 2 6 1 5 1 6 5 1 6 4 1 4 4 5 6 6 3 1 1 3 4 2 6 2 4 5 6 2 6 4 1 6 6\n",
      " 3 6 6 6 1 5 5 4 6 2 1 1 2 1 5 1 2 1 2 5 4 1 4]\n"
     ]
    }
   ],
   "source": [
    "n = 60\n",
    "\n",
    "b = np.random.randint(1, 7, size=n)\n",
    "\n",
    "print(b)"
   ]
  },
  {
   "cell_type": "markdown",
   "metadata": {
    "colab_type": "text",
    "id": "cKqcXnQksFJN"
   },
   "source": [
    "Ð’Ñ‹Ñ‡Ð¸ÑÐ»Ð¸Ð¼ Ð¼Ð¾Ñ‰Ð½Ð¾ÑÑ‚ÑŒ Ð¿Ð¾Ð´Ð¼Ð½Ð¾Ð¶ÐµÑÑ‚Ð²Ð°, Ð³Ð´Ðµ Ð½Ð°Ð±Ð»ÑŽÐ´Ð°Ð»Ð¾ÑÑŒ ÑÐ¾Ð±Ñ‹Ñ‚Ð¸Ðµ $A$, Ñ‚.Ðµ. Ð²Ñ‹Ð¿Ð°Ð´Ð°Ð»Ð¾ Ñ‡Ð¸ÑÐ»Ð¾ $3$:"
   ]
  },
  {
   "cell_type": "code",
   "execution_count": 17,
   "metadata": {},
   "outputs": [
    {
     "data": {
      "text/plain": [
       "array([ True, False, False, False, False, False, False, False, False,\n",
       "       False, False, False, False, False, False, False, False, False,\n",
       "       False, False,  True, False, False,  True, False, False, False,\n",
       "       False, False, False, False, False, False, False, False, False,\n",
       "       False,  True, False, False, False, False, False, False, False,\n",
       "       False, False, False, False, False, False, False, False, False,\n",
       "       False, False, False, False, False, False])"
      ]
     },
     "execution_count": 17,
     "metadata": {},
     "output_type": "execute_result"
    }
   ],
   "source": [
    "b == 3"
   ]
  },
  {
   "cell_type": "code",
   "execution_count": 18,
   "metadata": {
    "colab": {},
    "colab_type": "code",
    "id": "R1XSM8SPsFJO"
   },
   "outputs": [
    {
     "data": {
      "text/plain": [
       "4"
      ]
     },
     "execution_count": 18,
     "metadata": {},
     "output_type": "execute_result"
    }
   ],
   "source": [
    "m = (b == 3).sum()\n",
    "\n",
    "m"
   ]
  },
  {
   "cell_type": "markdown",
   "metadata": {
    "colab_type": "text",
    "id": "YRkBCTgosFJV"
   },
   "source": [
    "Ð˜Ñ‚Ð°Ðº, Ð¾Ñ‚Ð½Ð¾ÑÐ¸Ñ‚ÐµÐ»ÑŒÐ½Ð°Ñ Ñ‡Ð°ÑÑ‚Ð¾Ñ‚Ð° ÑÐ¾Ð±Ñ‹Ñ‚Ð¸Ñ $A$:"
   ]
  },
  {
   "cell_type": "code",
   "execution_count": 19,
   "metadata": {
    "colab": {
     "base_uri": "https://localhost:8080/",
     "height": 35
    },
    "colab_type": "code",
    "executionInfo": {
     "elapsed": 806,
     "status": "ok",
     "timestamp": 1541495284486,
     "user": {
      "displayName": "Ð’Ð¸Ð¾Ð»ÐµÑ‚Ñ‚Ð° Ð“Ð°Ð¹Ð´Ð°Ðº",
      "photoUrl": "",
      "userId": "16983940382840418244"
     },
     "user_tz": -420
    },
    "id": "Lxfgfn5CsFJV",
    "outputId": "ab2e7433-4e27-4fb6-b2ae-477ca212defd"
   },
   "outputs": [
    {
     "name": "stdout",
     "output_type": "stream",
     "text": [
      "0.06666666666666667\n"
     ]
    }
   ],
   "source": [
    "W = m / n\n",
    "\n",
    "print(W)"
   ]
  },
  {
   "cell_type": "markdown",
   "metadata": {},
   "source": [
    "_Ð—Ð°Ð¼ÐµÑ‡Ð°Ð½Ð¸Ðµ_: Ð·Ð´Ñ€Ð°Ð²Ñ‹Ð¹ ÑÐ¼Ñ‹ÑÐ» Ð¿Ð¾Ð´ÑÐºÐ°Ð·Ñ‹Ð²Ð°ÐµÑ‚, Ñ‡Ñ‚Ð¾ Ð²ÐµÑ€Ð¾ÑÑ‚Ð½Ð¾ÑÑ‚ÑŒ Ñ‚Ð°ÐºÐ¾Ð³Ð¾ ÑÐ¾Ð±Ñ‹Ñ‚Ð¸Ñ Ñ€Ð°Ð²Ð½Ð° $1 / 6$:"
   ]
  },
  {
   "cell_type": "code",
   "execution_count": 11,
   "metadata": {},
   "outputs": [
    {
     "data": {
      "text/plain": [
       "0.16666666666666666"
      ]
     },
     "execution_count": 11,
     "metadata": {},
     "output_type": "execute_result"
    }
   ],
   "source": [
    "1 / 6"
   ]
  },
  {
   "cell_type": "markdown",
   "metadata": {
    "colab_type": "text",
    "id": "xcJc6quGsFJZ"
   },
   "source": [
    "__ÐŸÑ€Ð¸Ð¼ÐµÑ€ 2__\n",
    "\n",
    "Ð Ð°Ð·Ð±ÐµÑ€Ñ‘Ð¼ Ð±Ð¾Ð»ÐµÐµ ÑÐ»Ð¾Ð¶Ð½Ñ‹Ð¹ Ð¿Ñ€Ð¸Ð¼ÐµÑ€. Ð¡Ð¼Ð¾Ð´ÐµÐ»Ð¸Ñ€ÑƒÐµÐ¼ ÑÐ¸Ñ‚ÑƒÐ°Ñ†Ð¸ÑŽ, ÐºÐ¾Ð³Ð´Ð° Ð±Ñ€Ð¾ÑÐ°ÑŽÑ‚ Ð´Ð²Ðµ Ð¸Ð³Ñ€Ð°Ð»ÑŒÐ½Ñ‹Ðµ ÐºÐ¾ÑÑ‚Ð¸ Ð¾Ð´Ð½Ð¾Ð²Ñ€ÐµÐ¼ÐµÐ½Ð½Ð¾.\n",
    "\n",
    "ÐŸÑ€Ð¸ ÑÑ‚Ð¾Ð¼ Ð±ÑƒÐ´ÐµÐ¼ Ð½Ð°Ñ…Ð¾Ð´Ð¸Ñ‚ÑŒ Ñ‡Ð°ÑÑ‚Ð¾Ñ‚Ñƒ ÑÐ»ÑƒÑ‡Ð°Ð¹Ð½Ð¾Ð³Ð¾ ÑÐ¾Ð±Ñ‹Ñ‚Ð¸Ñ $B$, Ð¿Ñ€Ð¸ ÐºÐ¾Ñ‚Ð¾Ñ€Ð¾Ð¼ Ð½Ð° Ð¿ÐµÑ€Ð²Ð¾Ð¹ ÐºÐ¾ÑÑ‚Ð¸ Ð²Ñ‹Ð¿Ð°Ð»Ð¾ $1$, Ð° Ð½Ð° Ð²Ñ‚Ð¾Ñ€Ð¾Ð¹ â€” $2$. \n",
    "\n",
    "ÐŸÑ€Ð¾Ð²ÐµÐ´Ñ‘Ð¼ Ð´Ð»Ñ ÑÑ‚Ð¾Ð³Ð¾ $360$ Ð¸ÑÐ¿Ñ‹Ñ‚Ð°Ð½Ð¸Ð¹, Ñ‚.Ðµ. $n = 360$."
   ]
  },
  {
   "cell_type": "code",
   "execution_count": 20,
   "metadata": {
    "colab": {},
    "colab_type": "code",
    "id": "ZgdkvS6JsFJd"
   },
   "outputs": [],
   "source": [
    "n = 360"
   ]
  },
  {
   "cell_type": "code",
   "execution_count": 21,
   "metadata": {
    "colab": {},
    "colab_type": "code",
    "id": "G-SUa6U4sFJf"
   },
   "outputs": [],
   "source": [
    "c = np.random.randint(1, 7, size=n)\n",
    "d = np.random.randint(1, 7, size=n)"
   ]
  },
  {
   "cell_type": "markdown",
   "metadata": {
    "colab_type": "text",
    "id": "ATgZiDOgsFJm"
   },
   "source": [
    "Ð§Ð¸ÑÐ»Ð°, ÑÑ‚Ð¾ÑÑ‰Ð¸Ðµ Ð½Ð° Ð¾Ð´Ð½Ð¾Ð¹ Ð¿Ð¾Ð·Ð¸Ñ†Ð¸Ð¸ Ð² Ð¼Ð°ÑÑÐ¸Ð²Ð°Ñ… `c` Ð¸ `d`, Ð±ÑƒÐ´ÐµÐ¼ ÑÑ‡Ð¸Ñ‚Ð°Ñ‚ÑŒ Ñ€ÐµÐ·ÑƒÐ»ÑŒÑ‚Ð°Ñ‚Ð°Ð¼Ð¸ Ð¾Ð´Ð½Ð¾Ð³Ð¾ ÑÐºÑÐ¿ÐµÑ€Ð¸Ð¼ÐµÐ½Ñ‚Ð°.\n",
    "\n",
    "ÐÐ°Ð¿Ñ€Ð¸Ð¼ÐµÑ€, Ð² Ð¿ÐµÑ€Ð²Ð¾Ð¼ Ð¸ÑÐ¿Ñ‹Ñ‚Ð°Ð½Ð¸Ð¸ Ð½Ð° Ð¿ÐµÑ€Ð²Ð¾Ð¹ Ð¸Ð³Ñ€Ð°Ð»ÑŒÐ½Ð¾Ð¹ ÐºÐ¾ÑÑ‚Ð¸ Ð²Ñ‹Ð¿Ð°Ð»Ð¾ Ñ‡Ð¸ÑÐ»Ð¾ `c[0]`, Ð° Ð½Ð° Ð²Ñ‚Ð¾Ñ€Ð¾Ð¹ â€” `d[0]`."
   ]
  },
  {
   "cell_type": "code",
   "execution_count": 22,
   "metadata": {
    "colab": {
     "base_uri": "https://localhost:8080/",
     "height": 35
    },
    "colab_type": "code",
    "executionInfo": {
     "elapsed": 849,
     "status": "ok",
     "timestamp": 1541495289089,
     "user": {
      "displayName": "Ð’Ð¸Ð¾Ð»ÐµÑ‚Ñ‚Ð° Ð“Ð°Ð¹Ð´Ð°Ðº",
      "photoUrl": "",
      "userId": "16983940382840418244"
     },
     "user_tz": -420
    },
    "id": "SkEtXZxHsFJn",
    "outputId": "ea948386-2a77-438b-f79b-d3f4b115bc08"
   },
   "outputs": [
    {
     "name": "stdout",
     "output_type": "stream",
     "text": [
      "3 2\n"
     ]
    }
   ],
   "source": [
    "i = 0\n",
    "\n",
    "print(c[i], d[i])"
   ]
  },
  {
   "cell_type": "markdown",
   "metadata": {
    "colab_type": "text",
    "id": "7iVpKBCasFJs"
   },
   "source": [
    "ÐŸÐ¾ÑÑ‡Ð¸Ñ‚Ð°ÐµÐ¼ Ñ‡Ð¸ÑÐ»Ð¾ ÑÐ»ÑƒÑ‡Ð°Ð², ÐºÐ¾Ð³Ð´Ð° Ð² Ð¾Ð´Ð½Ð¾Ð¼ Ð¸ÑÐ¿Ñ‹Ñ‚Ð°Ð½Ð¸Ð¸ Ð½Ð° Ð¿ÐµÑ€Ð²Ð¾Ð¹ Ð¸Ð³Ñ€Ð°Ð»ÑŒÐ½Ð¾Ð¹ ÐºÐ¾ÑÑ‚Ð¸ Ð²Ñ‹Ð¿Ð°Ð»Ð¾ Ñ‡Ð¸ÑÐ»Ð¾ $1$, Ð° Ð½Ð° Ð²Ñ‚Ð¾Ñ€Ð¾Ð¹ â€” $2$."
   ]
  },
  {
   "cell_type": "code",
   "execution_count": 23,
   "metadata": {
    "colab": {
     "base_uri": "https://localhost:8080/",
     "height": 35
    },
    "colab_type": "code",
    "executionInfo": {
     "elapsed": 774,
     "status": "ok",
     "timestamp": 1541495290921,
     "user": {
      "displayName": "Ð’Ð¸Ð¾Ð»ÐµÑ‚Ñ‚Ð° Ð“Ð°Ð¹Ð´Ð°Ðº",
      "photoUrl": "",
      "userId": "16983940382840418244"
     },
     "user_tz": -420
    },
    "id": "-7KFNSGLsFJu",
    "outputId": "c05d9171-f5d2-4f9c-8dde-c3ea65d76f53"
   },
   "outputs": [
    {
     "name": "stdout",
     "output_type": "stream",
     "text": [
      "9\n"
     ]
    }
   ],
   "source": [
    "m = ((c == 1) & (d == 2)).sum()\n",
    "\n",
    "print(m)"
   ]
  },
  {
   "cell_type": "markdown",
   "metadata": {
    "colab_type": "text",
    "id": "EIbB0Cy6sFJw"
   },
   "source": [
    "Ð’Ñ‹Ñ‡Ð¸ÑÐ»Ð¸Ð¼ Ð¾Ñ‚Ð½Ð¾ÑÐ¸Ñ‚ÐµÐ»ÑŒÐ½ÑƒÑŽ Ñ‡Ð°ÑÑ‚Ð¾Ñ‚Ñƒ ÑÐ¾Ð±Ñ‹Ñ‚Ð¸Ñ $B$:"
   ]
  },
  {
   "cell_type": "code",
   "execution_count": 24,
   "metadata": {
    "colab": {
     "base_uri": "https://localhost:8080/",
     "height": 35
    },
    "colab_type": "code",
    "executionInfo": {
     "elapsed": 854,
     "status": "ok",
     "timestamp": 1541495291841,
     "user": {
      "displayName": "Ð’Ð¸Ð¾Ð»ÐµÑ‚Ñ‚Ð° Ð“Ð°Ð¹Ð´Ð°Ðº",
      "photoUrl": "",
      "userId": "16983940382840418244"
     },
     "user_tz": -420
    },
    "id": "yt9Mv6kxsFJx",
    "outputId": "45d75122-df47-4f99-c099-f0b1da1f8ef8"
   },
   "outputs": [
    {
     "name": "stdout",
     "output_type": "stream",
     "text": [
      "0.025\n"
     ]
    }
   ],
   "source": [
    "W = m / n\n",
    "\n",
    "print(W)"
   ]
  },
  {
   "cell_type": "markdown",
   "metadata": {},
   "source": [
    "ÐÐ½Ð°Ð»Ð¾Ð³Ð¸Ñ‡Ð½Ð¾, Ð²ÐµÑ€Ð¾ÑÑ‚Ð½Ð¾ÑÑ‚ÑŒ Ñ‚Ð°ÐºÐ¾Ð³Ð¾ ÑÐ¾Ð±Ñ‹Ñ‚Ð¸Ñ:"
   ]
  },
  {
   "cell_type": "code",
   "execution_count": 25,
   "metadata": {},
   "outputs": [
    {
     "data": {
      "text/plain": [
       "0.027777777777777776"
      ]
     },
     "execution_count": 25,
     "metadata": {},
     "output_type": "execute_result"
    }
   ],
   "source": [
    "1 / 36"
   ]
  },
  {
   "cell_type": "markdown",
   "metadata": {},
   "source": [
    "ÐšÐ°Ðº Ð¿Ñ€Ð°Ð²Ð¸Ð»Ð¾, Ñ‡ÐµÐ¼ Ð±Ð¾Ð»ÑŒÑˆÐµ Ð¸ÑÐ¿Ñ‹Ñ‚Ð°Ð½Ð¸Ð¹ Ð¼Ñ‹ Ð´ÐµÐ»Ð°ÐµÐ¼, Ñ‚ÐµÐ¼ Ð±Ð¾Ð»ÑŒÑˆÐµ Ð·Ð½Ð°Ñ‡ÐµÐ½Ð¸Ðµ Ñ‡Ð°ÑÑ‚Ð¾Ñ‚Ñ‹ Â«ÑÑ‚Ð°Ð±Ð¸Ð»Ð¸Ð·Ð¸Ñ€ÑƒÐµÑ‚ÑÑÂ», Ñ‚.Ðµ. Ð¿Ñ€Ð¸Ð±Ð»Ð¸Ð¶Ð°ÐµÑ‚ÑÑ Ðº ÐºÐ°ÐºÐ¾Ð¼Ñƒ-Ñ‚Ð¾ ÐºÐ¾Ð½ÐºÑ€ÐµÑ‚Ð½Ð¾Ð¼Ñƒ Ð·Ð½Ð°Ñ‡ÐµÐ½Ð¸ÑŽ."
   ]
  },
  {
   "cell_type": "markdown",
   "metadata": {
    "colab_type": "text",
    "id": "Jg88f4D6sFJ0"
   },
   "source": [
    "__ÐŸÑ€Ð¸Ð¼ÐµÑ€ 3__\n",
    "\n",
    "Ð’ÐµÑ€Ð½Ñ‘Ð¼ÑÑ Ðº Ð¿Ñ€Ð¸Ð¼ÐµÑ€Ñƒ 1 (Ð±Ñ€Ð¾ÑÐ¾Ðº Ð¾Ð´Ð½Ð¾Ð³Ð¾ ÐºÑƒÐ±Ð¸ÐºÐ°) Ð¸ Ð¿Ð¾ÑÑ‡Ð¸Ñ‚Ð°ÐµÐ¼ ÐµÐ³Ð¾ Ð¾Ñ‚Ð½Ð¾ÑÐ¸Ñ‚ÐµÐ»ÑŒÐ½ÑƒÑŽ Ñ‡Ð°ÑÑ‚Ð¾Ñ‚Ñƒ Ð¿Ñ€Ð¸ Ñ€Ð°Ð·Ð»Ð¸Ñ‡Ð½Ñ‹Ñ… Ð·Ð½Ð°Ñ‡ÐµÐ½Ð¸ÑÑ… $n$."
   ]
  },
  {
   "cell_type": "code",
   "execution_count": 26,
   "metadata": {},
   "outputs": [],
   "source": [
    "def dice_frequency(n: int) -> float:\n",
    "    \"\"\"ÐžÑ‚Ð½Ð¾ÑÐ¸Ñ‚ÐµÐ»ÑŒÐ½Ð°Ñ Ñ‡Ð°ÑÑ‚Ð¾Ñ‚Ð° Ð²Ñ‹Ð¿Ð°Ð´ÐµÐ½Ð¸Ñ Ð·Ð½Ð°Ñ‡ÐµÐ½Ð¸Ñ 3 Ð¿Ñ€Ð¸ Ð±Ñ€Ð¾ÑÐºÐµ Ð¾Ð´Ð½Ð¾Ð³Ð¾ ÐºÑƒÐ±Ð¸ÐºÐ°.\n",
    "    \n",
    "    :param n: Ñ‡Ð¸ÑÐ»Ð¾ Ð¸ÑÐ¿Ñ‹Ñ‚Ð°Ð½Ð¸Ð¹\n",
    "    \"\"\"\n",
    "\n",
    "    b = np.random.randint(1, 7, size=n)\n",
    "    \n",
    "    m = (b == 3).sum()\n",
    "    \n",
    "    return m / n"
   ]
  },
  {
   "cell_type": "code",
   "execution_count": 27,
   "metadata": {},
   "outputs": [],
   "source": [
    "from matplotlib import pyplot as plt\n",
    "from tqdm.notebook import trange\n",
    "\n",
    "plt.style.use('seaborn-whitegrid')"
   ]
  },
  {
   "cell_type": "code",
   "execution_count": 28,
   "metadata": {},
   "outputs": [
    {
     "data": {
      "application/vnd.jupyter.widget-view+json": {
       "model_id": "910b9aebb17545719ab217ac54db297f",
       "version_major": 2,
       "version_minor": 0
      },
      "text/plain": [
       "HBox(children=(FloatProgress(value=0.0, max=50.0), HTML(value='')))"
      ]
     },
     "metadata": {},
     "output_type": "display_data"
    },
    {
     "name": "stdout",
     "output_type": "stream",
     "text": [
      "\n"
     ]
    },
    {
     "data": {
      "image/png": "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\n",
      "text/plain": [
       "<Figure size 600x400 with 1 Axes>"
      ]
     },
     "metadata": {},
     "output_type": "display_data"
    }
   ],
   "source": [
    "ns = [10, 20, 50, 100, 200, 500, 1000, 5000, 10 ** 4, 10 ** 5, 10 ** 6, 10 ** 7]\n",
    "\n",
    "x = []\n",
    "y = []\n",
    "\n",
    "for _ in trange(50):\n",
    "    for n in ns:\n",
    "        x.append(n)\n",
    "        y.append(dice_frequency(n))\n",
    "\n",
    "plt.figure(dpi=100)\n",
    "\n",
    "plt.scatter(x, y, s=10)\n",
    "    \n",
    "plt.axhline(y=1 / 6, c='black', ls='dashed', lw=1).set_zorder(0)\n",
    "    \n",
    "plt.xscale('log')\n",
    "\n",
    "plt.title('Ð§Ð°ÑÑ‚Ð¾Ñ‚Ð° Ð²Ñ‹Ð¿Ð°Ð´ÐµÐ½Ð¸Ñ Ð·Ð½Ð°Ñ‡ÐµÐ½Ð¸Ñ 3 Ð½Ð° ÐºÑƒÐ±Ð¸ÐºÐµ\\nÐ¿Ñ€Ð¸ Ñ€Ð°Ð·Ð½Ð¾Ð¼ Ñ‡Ð¸ÑÐ»Ðµ Ð¸ÑÐ¿Ñ‹Ñ‚Ð°Ð½Ð¸Ð¹')\n",
    "plt.xlabel('Ñ‡Ð¸ÑÐ»Ð¾ Ð¸ÑÐ¿Ñ‹Ñ‚Ð°Ð½Ð¸Ð¹')\n",
    "plt.ylabel('Ñ‡Ð°ÑÑ‚Ð¾Ñ‚Ð° Ð²Ñ‹Ð¿Ð°Ð´ÐµÐ½Ð¸Ñ Ð·Ð½Ð°Ñ‡ÐµÐ½Ð¸Ñ 3')\n",
    "\n",
    "plt.show()"
   ]
  },
  {
   "cell_type": "markdown",
   "metadata": {},
   "source": [
    "__Ð¡Ñ‚Ð°Ñ‚Ð¸ÑÑ‚Ð¸Ñ‡ÐµÑÐºÐ¾Ð¹ Ð²ÐµÑ€Ð¾ÑÑ‚Ð½Ð¾ÑÑ‚ÑŒÑŽ__ ÑÐ¾Ð±Ñ‹Ñ‚Ð¸Ñ $A$ Ð½Ð°Ð·Ñ‹Ð²Ð°ÐµÑ‚ÑÑ ÐµÐ³Ð¾ Ð¾Ñ‚Ð½Ð¾ÑÐ¸Ñ‚ÐµÐ»ÑŒÐ½Ð°Ñ Ñ‡Ð°ÑÑ‚Ð¾Ñ‚Ð° Ð¿Ñ€Ð¸ Ð´Ð¾ÑÑ‚Ð°Ñ‚Ð¾Ñ‡Ð½Ð¾ Ð±Ð¾Ð»ÑŒÑˆÐ¾Ð¼ (Â«Ð±ÐµÑÐºÐ¾Ð½ÐµÑ‡Ð½Ð¾Ð¼Â») ÐºÐ¾Ð»Ð¸Ñ‡ÐµÑÑ‚Ð²Ðµ Ð¾Ð¿Ñ‹Ñ‚Ð¾Ð². Ð’ÐµÑ€Ð¾ÑÑ‚Ð½Ð¾ÑÑ‚ÑŒ ÑÐ¾Ð±Ñ‹Ñ‚Ð¸Ñ $A$ Ð¾Ð±Ð¾Ð·Ð½Ð°Ñ‡Ð°ÐµÑ‚ÑÑ $P(A)$.\n",
    "\n",
    "ÐÐ°Ð¿Ñ€Ð¸Ð¼ÐµÑ€, Ð¿Ñ€Ð¸ Ð¼Ð½Ð¾Ð³Ð¾ÐºÑ€Ð°Ñ‚Ð½Ð¾Ð¼ Ð¿Ð¾Ð²Ñ‚Ð¾Ñ€ÐµÐ½Ð¸Ð¸ Ð±Ñ€Ð¾ÑÐºÐ¾Ð² Ð¼Ð¾Ð½ÐµÑ‚Ñ‹ Ð¾Ñ‚Ð½Ð¾ÑÐ¸Ñ‚ÐµÐ»ÑŒÐ½Ð°Ñ Ñ‡Ð°ÑÑ‚Ð¾Ñ‚Ð° Ð²Ñ‹Ð¿Ð°Ð´ÐµÐ½Ð¸Ñ Ð¾Ñ€Ð»Ð° Ð¼Ð¾Ð¶ÐµÑ‚ Ñ€Ð°Ð·Ð»Ð¸Ñ‡Ð°Ñ‚ÑŒÑÑ, Ð¾Ð´Ð½Ð°ÐºÐ¾, Ð²ÐµÑ€Ð¾ÑÑ‚Ð½Ð¾ÑÑ‚ÑŒ Ð²Ñ‹Ð¿Ð°Ð´ÐµÐ½Ð¸Ñ Ð¾Ñ€Ð»Ð° Ñ€Ð°Ð²Ð½Ð° $0.5$."
   ]
  },
  {
   "cell_type": "markdown",
   "metadata": {},
   "source": [
    "Ð¡Ð²Ð¾Ð¹ÑÑ‚Ð²Ð° Ð²ÐµÑ€Ð¾ÑÑ‚Ð½Ð¾ÑÑ‚Ð¸:\n",
    "\n",
    "* $0 \\leq P(A) \\leq 1$ Ð´Ð»Ñ Ð»ÑŽÐ±Ð¾Ð³Ð¾ ÑÐ¾Ð±Ñ‹Ñ‚Ð¸Ñ $A$.\n",
    "* $P(\\varnothing) = 0$, $P(\\Omega) = 1$, Ð³Ð´Ðµ $\\varnothing$ â€” Ð½ÐµÐ²Ð¾Ð·Ð¼Ð¾Ð¶Ð½Ð¾Ðµ ÑÐ¾Ð±Ñ‹Ñ‚Ð¸Ðµ, $\\Omega$ â€” Ð´Ð¾ÑÑ‚Ð¾Ð²ÐµÑ€Ð½Ð¾Ðµ ÑÐ¾Ð±Ñ‹Ñ‚Ð¸Ðµ.\n",
    "* $P(A + B) = P(A) + P(B) - P(AB)$, Ð³Ð´Ðµ $A + B$ â€” Ð¾Ð±ÑŠÐµÐ´Ð¸Ð½ÐµÐ½Ð¸Ðµ ÑÐ¾Ð±Ñ‹Ñ‚Ð¸Ð¹ (Ð¿Ñ€Ð¾Ð¸ÑÑ…Ð¾Ð´Ð¸Ñ‚ Ñ…Ð¾Ñ‚Ñ Ð±Ñ‹ Ð¾Ð´Ð½Ð¾), Ð° $AB$ â€” ÑÐ¾Ð²Ð¼ÐµÑÑ‚Ð½Ð¾Ðµ ÑÐ¾Ð±Ñ‹Ñ‚Ð¸Ðµ (Ð¿Ñ€Ð¾Ð¸ÑÑ…Ð¾Ð´ÑÑ‚ Ð¾Ð±Ð°).\n",
    "* Ð’ Ñ‡Ð°ÑÑ‚Ð½Ð¾ÑÑ‚Ð¸, __Ð´Ð»Ñ Ð½ÐµÑÐ¾Ð²Ð¼ÐµÑÑ‚Ð½Ñ‹Ñ… ÑÐ¾Ð±Ñ‹Ñ‚Ð¸Ð¹__ $P(A + B) = P(A) + P(B)$.\n",
    "* $P(A) + P \\left( \\overline{A} \\right) = 1$ Ð´Ð»Ñ Ð»ÑŽÐ±Ð¾Ð³Ð¾ ÑÐ¾Ð±Ñ‹Ñ‚Ð¸Ñ $A$.\n",
    "\n",
    "_Ð—Ð°Ð¼ÐµÑ‡Ð°Ð½Ð¸Ðµ_. Ð•Ñ‰Ñ‘ Ñ€Ð°Ð· Ð¿Ð¾Ð´Ñ‡ÐµÑ€ÐºÐ½Ñ‘Ð¼, Ñ‡Ñ‚Ð¾ __Ð²ÐµÑ€Ð¾ÑÑ‚Ð½Ð¾ÑÑ‚Ð¸ Ð¿Ñ€Ð¾Ð¸Ð·Ð²Ð¾Ð»ÑŒÐ½Ñ‹Ñ… ÑÐ¾Ð±Ñ‹Ñ‚Ð¸Ð¹ ÑÑƒÐ¼Ð¼Ð¸Ñ€Ð¾Ð²Ð°Ñ‚ÑŒ Ð½ÐµÐ»ÑŒÐ·Ñ__, ÑÐ¿ÐµÑ€Ð²Ð° Ð½ÐµÐ¾Ð±Ñ…Ð¾Ð´Ð¸Ð¼Ð¾ ÑƒÑÑ‚Ð°Ð½Ð¾Ð²Ð¸Ñ‚ÑŒ Ð½ÐµÑÐ¾Ð²Ð¼ÐµÑÑ‚Ð½Ð¾ÑÑ‚ÑŒ ÑÐ¾Ð±Ñ‹Ñ‚Ð¸Ð¹."
   ]
  },
  {
   "cell_type": "markdown",
   "metadata": {},
   "source": [
    "### ÐšÐ¾Ð¼Ð±Ð¸Ð½Ð°Ñ‚Ð¾Ñ€Ð¸ÐºÐ°\n",
    "\n",
    "__ÐšÐ¾Ð¼Ð±Ð¸Ð½Ð°Ñ‚Ð¾Ñ€Ð¸ÐºÐ°__ â€” Ñ€Ð°Ð·Ð´ÐµÐ» Ð¼Ð°Ñ‚ÐµÐ¼Ð°Ñ‚Ð¸ÐºÐ¸, Ð² ÐºÐ¾Ñ‚Ð¾Ñ€Ð¾Ð¼ Ð¸Ð·ÑƒÑ‡Ð°ÑŽÑ‚ÑÑ Ð·Ð°Ð´Ð°Ñ‡Ð¸ Ð²Ñ‹Ð±Ð¾Ñ€Ð° ÑÐ»ÐµÐ¼ÐµÐ½Ñ‚Ð¾Ð² Ð¸Ð· Ð·Ð°Ð´Ð°Ð½Ð½Ð¾Ð³Ð¾ Ð¼Ð½Ð¾Ð¶ÐµÑÑ‚Ð²Ð° Ð¸ Ñ€Ð°ÑÐ¿Ð¾Ð»Ð¾Ð¶ÐµÐ½Ð¸Ñ Ð¸Ñ… Ð² Ð³Ñ€ÑƒÐ¿Ð¿Ñ‹ Ð¿Ð¾ Ð·Ð°Ð´Ð°Ð½Ð½Ñ‹Ð¼ Ð¿Ñ€Ð°Ð²Ð¸Ð»Ð°Ð¼.\n",
    "\n",
    "ÐœÑ‹ Ð¸Ð·ÑƒÑ‡Ð¸Ð¼:\n",
    "1. Ñ€Ð°Ð·Ð¼ÐµÑ‰ÐµÐ½Ð¸Ñ,\n",
    "2. Ð¿ÐµÑ€ÐµÑÑ‚Ð°Ð½Ð¾Ð²ÐºÐ¸,\n",
    "3. ÑÐ¾Ñ‡ÐµÑ‚Ð°Ð½Ð¸Ñ."
   ]
  },
  {
   "cell_type": "markdown",
   "metadata": {
    "colab_type": "text",
    "id": "dWGTf84XsFKA"
   },
   "source": [
    "__Ð Ð°Ð·Ð¼ÐµÑ‰ÐµÐ½Ð¸Ðµ Ð¸Ð· $n$ ÑÐ»ÐµÐ¼ÐµÐ½Ñ‚Ð¾Ð² Ð¿Ð¾ $k$ ÑÐ»ÐµÐ¼ÐµÐ½Ñ‚Ð¾Ð²__ â€” ÑÑ‚Ð¾ ÑƒÐ¿Ð¾Ñ€ÑÐ´Ð¾Ñ‡ÐµÐ½Ð½Ñ‹Ð¹ Ð½Ð°Ð±Ð¾Ñ€ Ð¸Ð· $k$ ÑÐ»ÐµÐ¼ÐµÐ½Ñ‚Ð¾Ð², Ð²Ñ‹Ð±Ñ€Ð°Ð½Ð½Ñ‹Ñ… Ð¸Ð· Ð¼Ð½Ð¾Ð¶ÐµÑÑ‚Ð²Ð°, ÑÐ¾Ð´ÐµÑ€Ð¶Ð°Ñ‰ÐµÐ³Ð¾ $n$ ÑÐ»ÐµÐ¼ÐµÐ½Ñ‚Ð¾Ð².\n",
    "\n",
    "_Ð—Ð°Ð¼ÐµÑ‡Ð°Ð½Ð¸Ðµ_: Ð·Ð´ÐµÑÑŒ $k$ Ð¸ $n$ â€” Ð½Ð°Ñ‚ÑƒÑ€Ð°Ð»ÑŒÐ½Ñ‹Ðµ Ñ‡Ð¸ÑÐ»Ð° Ð¸ $0 \\leq k \\leq n$.\n",
    "\n",
    "ÐÐ°Ð¿Ñ€Ð¸Ð¼ÐµÑ€, Ð½Ð°Ð±Ð¾Ñ€ $(1, 3, 5)$ ÑÐ²Ð»ÑÐµÑ‚ÑÑ Ñ€Ð°Ð·Ð¼ÐµÑ‰ÐµÐ½Ð¸ÐµÐ¼ Ð¸Ð· Ð¼Ð½Ð¾Ð¶ÐµÑÑ‚Ð²Ð° $\\{ 1, 2, 3, 4, 5 \\}$.\n",
    "\n",
    "Ð’ Ñ€Ð°Ð·Ð¼ÐµÑ‰ÐµÐ½Ð¸ÑÑ… Ð²Ð°Ð¶ÐµÐ½ Ð¿Ð¾Ñ€ÑÐ´Ð¾Ðº. Ð¢Ð°Ðº, $(1, 3, 5)$ Ð¸ $(5, 1, 3)$ â€” Ñ€Ð°Ð·Ð½Ñ‹Ðµ Ñ€Ð°Ð·Ð¼ÐµÑ‰ÐµÐ½Ð¸Ñ.\n",
    "\n",
    "_Ð”Ð¾Ð³Ð¾Ð²Ð¾Ñ€Ñ‘Ð½Ð½Ð¾ÑÑ‚ÑŒ_: Ð±ÑƒÐ´ÐµÐ¼ Ð¾Ð±Ð¾Ð·Ð½Ð°Ñ‡Ð°Ñ‚ÑŒ _ÐºÑ€ÑƒÐ³Ð»Ñ‹Ð¼Ð¸_ ÑÐºÐ¾Ð±ÐºÐ°Ð¼Ð¸ _ÑƒÐ¿Ð¾Ñ€ÑÐ´Ð¾Ñ‡ÐµÐ½Ð½Ñ‹Ðµ_ Ð½Ð°Ð±Ð¾Ñ€Ñ‹, Ð° _Ñ„Ð¸Ð³ÑƒÑ€Ð½Ñ‹Ð¼Ð¸_ â€” _Ð½ÐµÑƒÐ¿Ð¾Ñ€ÑÐ´Ð¾Ñ‡ÐµÐ½Ð½Ñ‹Ðµ_.\n",
    "\n",
    "ÐŸÐ¾ÑÑ‡Ð¸Ñ‚Ð°ÐµÐ¼ ÐºÐ¾Ð»Ð¸Ñ‡ÐµÑÑ‚Ð²Ð¾ Ñ€Ð°Ð·Ð¼ÐµÑ‰ÐµÐ½Ð¸Ð¹ Ð¸Ð· $n$ Ð¿Ð¾ $k$. ÐŸÑ€ÐµÐ´ÑÑ‚Ð°Ð²Ð¸Ð¼ ÑÐµÐ±Ðµ $k$ Ð¿ÑƒÑÑ‚Ñ‹Ñ… ÑÑ‡ÐµÐµÐº. Ð’ Ð¿ÐµÑ€Ð²Ð¾Ð¹ ÑÑ‡ÐµÐ¹ÐºÐµ Ð¼Ð¾Ð¶ÐµÑ‚ Ð±Ñ‹Ñ‚ÑŒ Ð»ÑŽÐ±Ð¾Ð¹ Ð¸Ð· $n$ ÑÐ»ÐµÐ¼ÐµÐ½Ñ‚Ð¾Ð². Ð’Ð¾ Ð²Ñ‚Ð¾Ñ€Ð¾Ð¹ ÑÑ‡ÐµÐ¹ÐºÐµ Ð¼Ð¾Ð¶ÐµÑ‚ Ð±Ñ‹Ñ‚ÑŒ Ñ‡Ñ‚Ð¾ ÑƒÐ³Ð¾Ð´Ð½Ð¾ ÐºÑ€Ð¾Ð¼Ðµ ÑÐ»ÐµÐ¼ÐµÐ½Ñ‚Ð° Ð¸Ð· Ð¿ÐµÑ€Ð²Ð¾Ð¹ ÑÑ‡ÐµÐ¹ÐºÐ¸, Ñ‚.Ðµ. Ð²ÑÐµÐ³Ð¾ $n - 1$ ÑÐ»ÐµÐ¼ÐµÐ½Ñ‚Ð¾Ð². Ð’ Ñ‚Ñ€ÐµÑ‚ÑŒÐµÐ¹ ÑÑ‡ÐµÐ¹ÐºÐµ, Ð°Ð½Ð°Ð»Ð¾Ð³Ð¸Ñ‡Ð½Ð¾, Ð¼Ð¾Ð¶ÐµÑ‚ Ð±Ñ‹Ñ‚ÑŒ Ð»ÑŽÐ±Ð¾Ð¹ Ð¸Ð· $n - 2$ ÑÐ»ÐµÐ¼ÐµÐ½Ñ‚Ð¾Ð², Ð¸ Ñ‚.Ð´.\n",
    "\n",
    "Ð¢ÐµÐ¿ÐµÑ€ÑŒ Ñ‡Ñ‚Ð¾Ð±Ñ‹ Ð¿Ð¾Ð»ÑƒÑ‡Ð¸Ñ‚ÑŒ Ñ‡Ð¸ÑÐ»Ð¾ Ð²ÑÐµÐ²Ð¾Ð·Ð¼Ð¾Ð¶Ð½Ñ‹Ñ… Ñ€Ð°Ð·Ð¼ÐµÑ‰ÐµÐ½Ð¸Ð¹, Ð½ÑƒÐ¶Ð½Ð¾ Ð¿ÐµÑ€ÐµÐ¼Ð½Ð¾Ð¶Ð¸Ñ‚ÑŒ Ð²ÑÐµ ÑÑ‚Ð¸ Ñ‡Ð¸ÑÐ»Ð°. Ð˜Ñ‚Ð°Ðº, __ÐºÐ¾Ð»Ð¸Ñ‡ÐµÑÑ‚Ð²Ð¾ Ñ€Ð°Ð·Ð¼ÐµÑ‰ÐµÐ½Ð¸Ð¹ Ð¸Ð· $n$ Ð¿Ð¾ $k$__:\n",
    "$$A_n^k = n \\cdot (n - 1) \\cdot (n - 2) \\cdots (n - k + 1) = \\dfrac{n!}{(n - k)!},$$\n",
    "Ð³Ð´Ðµ $n! = n \\cdot (n - 1) \\cdot (n - 2) \\cdots 2 \\cdot 1$ â€” Ñ„Ð°ÐºÑ‚Ð¾Ñ€Ð¸Ð°Ð»."
   ]
  },
  {
   "cell_type": "code",
   "execution_count": 29,
   "metadata": {
    "colab": {},
    "colab_type": "code",
    "id": "aRmxVO1vwvEY"
   },
   "outputs": [],
   "source": [
    "def arrangements(n: int, k: int) -> int:\n",
    "    \"\"\"Ð§Ð¸ÑÐ»Ð¾ Ñ€Ð°Ð·Ð¼ÐµÑ‰ÐµÐ½Ð¸Ð¹.\n",
    "    \"\"\"\n",
    "    \n",
    "    return np.math.factorial(n) // np.math.factorial(n - k)"
   ]
  },
  {
   "cell_type": "markdown",
   "metadata": {
    "colab_type": "text",
    "id": "1K0UMRiisFKG"
   },
   "source": [
    "__ÐŸÐµÑ€ÐµÑÑ‚Ð°Ð½Ð¾Ð²ÐºÐ¾Ð¹ Ð¸Ð· $n$ ÑÐ»ÐµÐ¼ÐµÐ½Ñ‚Ð¾Ð²__ Ð½Ð°Ð·Ñ‹Ð²Ð°ÐµÑ‚ÑÑ Ñ€Ð°Ð·Ð¼ÐµÑ‰ÐµÐ½Ð¸Ðµ Ð¸Ð· $n$ ÑÐ»ÐµÐ¼ÐµÐ½Ñ‚Ð¾Ð² Ð¿Ð¾ $n$ ÑÐ»ÐµÐ¼ÐµÐ½Ñ‚Ð¾Ð².\n",
    "\n",
    "Ð§Ñ‚Ð¾Ð±Ñ‹ Ð¿Ð¾ÑÑ‡Ð¸Ñ‚Ð°Ñ‚ÑŒ ÐºÐ¾Ð»Ð¸Ñ‡ÐµÑÑ‚Ð²Ð¾ Ð¿ÐµÑ€ÐµÑÑ‚Ð°Ð½Ð¾Ð²Ð¾Ðº, Ð´Ð¾ÑÑ‚Ð°Ñ‚Ð¾Ñ‡Ð½Ð¾ Ð·Ð½Ð°Ñ‚ÑŒ, Ñ‡Ñ‚Ð¾ $0! = 1$. Ð˜Ñ‚Ð°Ðº, __ÐºÐ¾Ð»Ð¸Ñ‡ÐµÑÑ‚Ð²Ð¾ Ð¿ÐµÑ€ÐµÑÑ‚Ð°Ð½Ð¾Ð²Ð¾Ðº Ð¸Ð· $n$ ÑÐ»ÐµÐ¼ÐµÐ½Ñ‚Ð¾Ð²__:\n",
    "$$P_n = \\dfrac{n!}{0!} =  n!$$"
   ]
  },
  {
   "cell_type": "code",
   "execution_count": 30,
   "metadata": {
    "colab": {},
    "colab_type": "code",
    "id": "ktyYJlBLPfP5"
   },
   "outputs": [],
   "source": [
    "def permutations(n: int) -> int:\n",
    "    \"\"\"Ð§Ð¸ÑÐ»Ð¾ Ð¿ÐµÑ€ÐµÑÑ‚Ð°Ð½Ð¾Ð²Ð¾Ðº.\n",
    "    \"\"\"\n",
    "    \n",
    "    return np.math.factorial(n)"
   ]
  },
  {
   "cell_type": "markdown",
   "metadata": {
    "colab_type": "text",
    "id": "zjQq1-wrsFKC"
   },
   "source": [
    "__Ð¡Ð¾Ñ‡ÐµÑ‚Ð°Ð½Ð¸Ðµ Ð¸Ð· $n$ ÑÐ»ÐµÐ¼ÐµÐ½Ñ‚Ð¾Ð² Ð¿Ð¾ $k$ ÑÐ»ÐµÐ¼ÐµÐ½Ñ‚Ð¾Ð²__ â€” ÑÑ‚Ð¾ __Ð½Ðµ__ÑƒÐ¿Ð¾Ñ€ÑÐ´Ð¾Ñ‡ÐµÐ½Ð½Ñ‹Ð¹ Ð½Ð°Ð±Ð¾Ñ€ Ð¸Ð· $k$ ÑÐ»ÐµÐ¼ÐµÐ½Ñ‚Ð¾Ð², Ð²Ñ‹Ð±Ñ€Ð°Ð½Ð½Ñ‹Ñ… Ð¸Ð· Ð¼Ð½Ð¾Ð¶ÐµÑÑ‚Ð²Ð°, ÑÐ¾Ð´ÐµÑ€Ð¶Ð°Ñ‰ÐµÐ³Ð¾ $n$ ÑÐ»ÐµÐ¼ÐµÐ½Ñ‚Ð¾Ð².\n",
    "\n",
    "ÐÐ°Ð¿Ñ€Ð¸Ð¼ÐµÑ€, Ð½Ð°Ð±Ð¾Ñ€ $\\{ 1, 3, 5 \\}$ ÑÐ²Ð»ÑÐµÑ‚ÑÑ Ñ€Ð°Ð·Ð¼ÐµÑ‰ÐµÐ½Ð¸ÐµÐ¼ Ð¸Ð· Ð¼Ð½Ð¾Ð¶ÐµÑÑ‚Ð²Ð° $\\{ 1, 2, 3, 4, 5 \\}$. ÐŸÑ€Ð¸ ÑÑ‚Ð¾Ð¼, $\\{ 1, 3, 5 \\}$ Ð¸ $\\{ 5, 1, 3 \\}$ â€” Ð¾Ð´Ð½Ð¾ Ð¸ Ñ‚Ð¾ Ð¶Ðµ ÑÐ¾Ñ‡ÐµÑ‚Ð°Ð½Ð¸Ðµ.\n",
    "\n",
    "Ð¡Ð¾Ñ‡ÐµÑ‚Ð°Ð½Ð¸Ð¹ Ð¸Ð· $n$ Ð¿Ð¾ $k$ Ð¼ÐµÐ½ÑŒÑˆÐµ, Ñ‡ÐµÐ¼ Ñ€Ð°Ð·Ð¼ÐµÑ‰ÐµÐ½Ð¸Ð¹. ÐÐ°ÑÐºÐ¾Ð»ÑŒÐºÐ¾ Ð¼ÐµÐ½ÑŒÑˆÐµ? Ð˜Ð· ÐºÐ°Ð¶Ð´Ð¾Ð³Ð¾ ÑÐ¾Ñ‡ÐµÑ‚Ð°Ð½Ð¸Ñ Ñ€Ð°Ð·Ð¼ÐµÑ€Ð° $k$ Ð¼Ð¾Ð¶Ð½Ð¾ Ð¿Ð¾Ð»ÑƒÑ‡Ð¸Ñ‚ÑŒ Ñ€Ð¾Ð²Ð½Ð¾ $k!$ Ñ€Ð°Ð·Ð»Ð¸Ñ‡Ð½Ñ‹Ñ… Ñ€Ð°Ð·Ð¼ÐµÑ‰ÐµÐ½Ð¸Ð¹ (Ð¿ÐµÑ€ÐµÑÑ‚Ð°Ð²Ð»ÑÑ ÑÐ»ÐµÐ¼ÐµÐ½Ñ‚Ñ‹ Ð¸Ð· ÑÐ¾Ñ‡ÐµÑ‚Ð°Ð½Ð¸Ñ Ð²ÑÐµÐ²Ð¾Ð·Ð¼Ð¾Ð¶Ð½Ñ‹Ð¼Ð¸ ÑÐ¿Ð¾ÑÐ¾Ð±Ð°Ð¼Ð¸). Ð˜Ñ‚Ð°Ðº, __Ñ‡Ð¸ÑÐ»Ð¾ ÑÐ¾Ñ‡ÐµÑ‚Ð°Ð½Ð¸Ð¹ Ð¸Ð· $n$ Ð¿Ð¾ $k$__:\n",
    "$$C_n^k = \\dfrac{A_n^k}{P_k} =  \\dfrac{n!}{k! (n - k)!}$$"
   ]
  },
  {
   "cell_type": "code",
   "execution_count": 31,
   "metadata": {
    "colab": {},
    "colab_type": "code",
    "id": "XqmC5AY8I_Ie"
   },
   "outputs": [],
   "source": [
    "def combinations(n: int, k: int) -> int:\n",
    "    \"\"\"Ð§Ð¸ÑÐ»Ð¾ ÑÐ¾Ñ‡ÐµÑ‚Ð°Ð½Ð¸Ð¹.\n",
    "    \"\"\"\n",
    "    \n",
    "    return np.math.factorial(n) // (np.math.factorial(k) * np.math.factorial(n - k))"
   ]
  },
  {
   "cell_type": "markdown",
   "metadata": {
    "colab_type": "text",
    "id": "aRbqU8vBsFKJ"
   },
   "source": [
    "__ÐŸÑ€Ð¸Ð¼ÐµÑ€ 4__\n",
    "\n",
    "Ð¡ÐºÐ¾Ð»ÑŒÐºÐ¸Ð¼Ð¸ ÑÐ¿Ð¾ÑÐ¾Ð±Ð°Ð¼Ð¸ Ð¼Ð¾Ð¶Ð½Ð¾ Ð²Ñ‹Ð±Ñ€Ð°Ñ‚ÑŒ Ð¸Ð· ÐºÐ¾Ð»Ð¾Ð´Ñ‹, ÑÐ¾ÑÑ‚Ð¾ÑÑ‰ÐµÐ¹ Ð¸Ð· $36$ ÐºÐ°Ñ€Ñ‚, $4$ ÐºÐ°Ñ€Ñ‚Ñ‹?\n",
    "\n",
    "ÐŸÐ¾ÑÐºÐ¾Ð»ÑŒÐºÑƒ Ð·Ð´ÐµÑÑŒ Ð²Ð°Ð¶ÐµÐ½ Ð½Ðµ Ð¿Ð¾Ñ€ÑÐ´Ð¾Ðº, Ð° Ð»Ð¸ÑˆÑŒ ÑÐ¾Ð´ÐµÑ€Ð¶Ð°Ð½Ð¸Ðµ, Ð²Ð¾ÑÐ¿Ð¾Ð»ÑŒÐ·ÑƒÐµÐ¼ÑÑ Ñ„Ð¾Ñ€Ð¼ÑƒÐ»Ð¾Ð¹ ÑÐ¾Ñ‡ÐµÑ‚Ð°Ð½Ð¸Ð¹:\n",
    "$$C_{36}^4 = \\frac{36!}{4! \\: (36 - 4)!} = \\frac{36!}{4! \\: 32!} = \\frac{33 \\cdot 34 \\cdot 35 \\cdot 36}{4!} = \\frac{33 \\cdot 34 \\cdot 35 \\cdot 36}{2 \\cdot 3 \\cdot 4} = 58905$$"
   ]
  },
  {
   "cell_type": "code",
   "execution_count": 32,
   "metadata": {
    "colab": {
     "base_uri": "https://localhost:8080/",
     "height": 35
    },
    "colab_type": "code",
    "executionInfo": {
     "elapsed": 915,
     "status": "ok",
     "timestamp": 1541495297480,
     "user": {
      "displayName": "Ð’Ð¸Ð¾Ð»ÐµÑ‚Ñ‚Ð° Ð“Ð°Ð¹Ð´Ð°Ðº",
      "photoUrl": "",
      "userId": "16983940382840418244"
     },
     "user_tz": -420
    },
    "id": "vCudU0J8PnJv",
    "outputId": "c736c037-f7d1-44e3-d100-855b144d85fb"
   },
   "outputs": [
    {
     "data": {
      "text/plain": [
       "58905"
      ]
     },
     "execution_count": 32,
     "metadata": {},
     "output_type": "execute_result"
    }
   ],
   "source": [
    "combinations(36, 4)"
   ]
  },
  {
   "cell_type": "markdown",
   "metadata": {
    "colab_type": "text",
    "id": "WXfKNhFGsFKQ"
   },
   "source": [
    "__ÐŸÑ€Ð¸Ð¼ÐµÑ€ 5__\n",
    "\n",
    "Ð’ Ð¼Ð°Ð³Ð°Ð·Ð¸Ð½Ðµ $20$ Ð¿Ð¾ÐºÑƒÐ¿Ð°Ñ‚ÐµÐ»ÐµÐ¹. Ð¡ÐºÐ¾Ð»ÑŒÐºÐ¸Ð¼Ð¸ ÑÐ¿Ð¾ÑÐ¾Ð±Ð°Ð¼Ð¸ Ð¾Ð½Ð¸ Ð¼Ð¾Ð³ÑƒÑ‚ Ð¾Ð±Ñ€Ð°Ð·Ð¾Ð²Ð°Ñ‚ÑŒ Ð¾Ñ‡ÐµÑ€ÐµÐ´ÑŒ Ð¸Ð· $5$ Ñ‡ÐµÐ»Ð¾Ð²ÐµÐº?\n",
    "\n",
    "Ð’ ÑÑ‚Ð¾Ð¼ Ð¿Ñ€Ð¸Ð¼ÐµÑ€Ðµ Ð²Ð°Ð¶ÐµÐ½ Ð¿Ð¾Ñ€ÑÐ´Ð¾Ðº, Ð² ÐºÐ¾Ñ‚Ð¾Ñ€Ð¾Ð¼ Ð¿Ð¾ÐºÑƒÐ¿Ð°Ñ‚ÐµÐ»Ð¸ Ð±ÑƒÐ´ÑƒÑ‚ ÑÑ‚Ð¾ÑÑ‚ÑŒ Ð² Ð¾Ñ‡ÐµÑ€ÐµÐ´Ð¸, Ð¿Ð¾ÑÑ‚Ð¾Ð¼Ñƒ Ð¿Ñ€Ð¸Ð¼ÐµÐ½Ð¸Ð¼ Ñ„Ð¾Ñ€Ð¼ÑƒÐ»Ñƒ Ñ€Ð°Ð·Ð¼ÐµÑ‰ÐµÐ½Ð¸Ð¹:"
   ]
  },
  {
   "cell_type": "code",
   "execution_count": 33,
   "metadata": {
    "colab": {
     "base_uri": "https://localhost:8080/",
     "height": 35
    },
    "colab_type": "code",
    "executionInfo": {
     "elapsed": 999,
     "status": "ok",
     "timestamp": 1541495298528,
     "user": {
      "displayName": "Ð’Ð¸Ð¾Ð»ÐµÑ‚Ñ‚Ð° Ð“Ð°Ð¹Ð´Ð°Ðº",
      "photoUrl": "",
      "userId": "16983940382840418244"
     },
     "user_tz": -420
    },
    "id": "gKsM5aeoP32n",
    "outputId": "a36f1388-4b49-4f4a-dfa4-be18b9fd5325"
   },
   "outputs": [
    {
     "data": {
      "text/plain": [
       "1860480"
      ]
     },
     "execution_count": 33,
     "metadata": {},
     "output_type": "execute_result"
    }
   ],
   "source": [
    "arrangements(20, 5)"
   ]
  },
  {
   "cell_type": "markdown",
   "metadata": {
    "colab_type": "text",
    "id": "aFeIzgkQsFKR"
   },
   "source": [
    "__ÐŸÑ€Ð¸Ð¼ÐµÑ€ 6__\n",
    "\n",
    "Ð¡ÐºÐ¾Ð»ÑŒÐºÐ¸Ð¼Ð¸ ÑÐ¿Ð¾ÑÐ¾Ð±Ð°Ð¼Ð¸ $5$ Ð¿Ð¾ÐºÑƒÐ¿Ð°Ñ‚ÐµÐ»ÐµÐ¹ Ð¼Ð¾Ð³ÑƒÑ‚ Ð¾Ð±Ñ€Ð°Ð·Ð¾Ð²Ð°Ñ‚ÑŒ Ð¾Ñ‡ÐµÑ€ÐµÐ´ÑŒ?\n",
    "\n",
    "Ð­Ñ‚Ð¾Ñ‚ Ð¿Ñ€Ð¸Ð¼ÐµÑ€ Ð¿Ð¾Ñ…Ð¾Ð¶ Ð½Ð° Ð¿Ñ€ÐµÐ´Ñ‹Ð´ÑƒÑ‰Ð¸Ð¹, Ð½Ð¾ ÐµÑÑ‚ÑŒ Ð²Ð°Ð¶Ð½Ð¾Ðµ Ð¾Ñ‚Ð»Ð¸Ñ‡Ð¸Ðµ: Ð½Ðµ Ð½ÑƒÐ¶Ð½Ð¾ Ð²Ñ‹Ð±Ð¸Ñ€Ð°Ñ‚ÑŒ $5$ Ð¿Ð¾ÐºÑƒÐ¿Ð°Ñ‚ÐµÐ»ÐµÐ¹ Ð¸Ð· $20$. Ð—Ð´ÐµÑÑŒ Ð¸Ñ… Ð²ÑÐµÐ³Ð¾ $5$, Ð¸ Ð²ÑÐµ Ð´Ð¾Ð»Ð¶Ð½Ñ‹ Ð¿Ñ€Ð¸ÑÑƒÑ‚ÑÑ‚Ð²Ð¾Ð²Ð°Ñ‚ÑŒ Ð² Ð¾Ñ‡ÐµÑ€ÐµÐ´Ð¸, Ð¿Ð¾ÑÑ‚Ð¾Ð¼Ñƒ Ð½Ð°Ð¼ Ð½ÑƒÐ¶Ð½Ð¾ Ñ‡Ð¸ÑÐ»Ð¾ Ð¿ÐµÑ€ÐµÑÑ‚Ð°Ð½Ð¾Ð²Ð¾Ðº:"
   ]
  },
  {
   "cell_type": "code",
   "execution_count": 34,
   "metadata": {
    "colab": {
     "base_uri": "https://localhost:8080/",
     "height": 35
    },
    "colab_type": "code",
    "executionInfo": {
     "elapsed": 926,
     "status": "ok",
     "timestamp": 1541495299570,
     "user": {
      "displayName": "Ð’Ð¸Ð¾Ð»ÐµÑ‚Ñ‚Ð° Ð“Ð°Ð¹Ð´Ð°Ðº",
      "photoUrl": "",
      "userId": "16983940382840418244"
     },
     "user_tz": -420
    },
    "id": "SGljzgzEW-Pz",
    "outputId": "fa4d0994-b727-4a5f-dd3b-c9e0b7d52423"
   },
   "outputs": [
    {
     "data": {
      "text/plain": [
       "120"
      ]
     },
     "execution_count": 34,
     "metadata": {},
     "output_type": "execute_result"
    }
   ],
   "source": [
    "permutations(5)"
   ]
  },
  {
   "cell_type": "markdown",
   "metadata": {
    "colab_type": "text",
    "id": "wzEHNWr1sFKU"
   },
   "source": [
    "__ÐŸÑ€Ð¸Ð¼ÐµÑ€ 7__\n",
    "\n",
    "Ð¡ÐºÐ¾Ð»ÑŒÐºÐ¸Ð¼Ð¸ ÑÐ¿Ð¾ÑÐ¾Ð±Ð°Ð¼Ð¸ Ð¼Ð¾Ð¶Ð½Ð¾ Ð¸Ð· ÐºÐ¾Ð»Ð¾Ð´Ñ‹, ÑÐ¾ÑÑ‚Ð¾ÑÑ‰ÐµÐ¹ Ð¸Ð· $36$ ÐºÐ°Ñ€Ñ‚, Ð²Ñ‹Ð±Ñ€Ð°Ñ‚ÑŒ $5$ Ñ‚Ð°Ðº, Ñ‡Ñ‚Ð¾Ð±Ñ‹ ÑÑ€ÐµÐ´Ð¸ Ð½Ð¸Ñ… Ð¾ÐºÐ°Ð·Ð°Ð»Ð¾ÑÑŒ Ð¾Ñ‚ $2$ Ð´Ð¾ $3$ Ñ‚ÑƒÐ·Ð¾Ð²?\n",
    "\n",
    "Ð˜ÑÐºÐ¾Ð¼Ð¾Ðµ Ñ‡Ð¸ÑÐ»Ð¾ Ð¼Ð¾Ð¶Ð½Ð¾ Ð½Ð°Ð¹Ñ‚Ð¸ Ð¿Ð¾ Ñ‡Ð°ÑÑ‚ÑÐ¼. ÐŸÑƒÑÑ‚ÑŒ Ñ‡Ð¸ÑÐ»Ð¾ $a$ ÑÐ¾Ð¾Ñ‚Ð²ÐµÑ‚ÑÑ‚Ð²ÑƒÐµÑ‚ ÑÐ¸Ñ‚ÑƒÐ°Ñ†Ð¸Ð¸, ÐºÐ¾Ð³Ð´Ð° ÑÑ€ÐµÐ´Ð¸ $5$ Ð²Ñ‹Ñ‚ÑÐ½ÑƒÑ‚Ñ‹Ñ… ÐºÐ°Ñ€Ñ‚ $2$ Ñ‚ÑƒÐ·Ð°, Ð° Ñ‡Ð¸ÑÐ»Ð¾ $b$ â€” ÐºÐ¾Ð³Ð´Ð° ÑÑ€ÐµÐ´Ð¸ Ð²Ñ‹Ñ‚ÑÐ½ÑƒÑ‚Ñ‹Ñ… ÐºÐ°Ñ€Ñ‚ $3$ Ñ‚ÑƒÐ·Ð°. Ð¢Ð¾Ð³Ð´Ð° Ð¸ÑÐºÐ¾Ð¼Ð¾Ðµ Ñ‡Ð¸ÑÐ»Ð¾ Ñ€Ð°Ð²Ð½Ð¾ $a + b$.\n",
    "\n",
    "Ð˜Ñ‚Ð°Ðº, Ñ€Ð°ÑÑÐ¼Ð¾Ñ‚Ñ€Ð¸Ð¼ Ð¿ÐµÑ€Ð²ÑƒÑŽ ÑÐ¸Ñ‚ÑƒÐ°Ñ†Ð¸ÑŽ: ÑÑ€ÐµÐ´Ð¸ $5$ Ð²Ñ‹Ñ‚ÑÐ½ÑƒÑ‚Ñ‹Ñ… ÐºÐ°Ñ€Ñ‚ $2$ Ñ‚ÑƒÐ·Ð°. Ð­Ñ‚Ð¾ Ð¾Ð·Ð½Ð°Ñ‡Ð°ÐµÑ‚, Ñ‡Ñ‚Ð¾\n",
    "1. ÑÑ‚Ð¸ $2$ Ñ‚ÑƒÐ·Ð° Ð²Ñ‹Ñ‚ÑÐ³Ð¸Ð²Ð°ÑŽÑ‚ÑÑ ÑÐ»ÑƒÑ‡Ð°Ð¹Ð½Ð¾ Ð¸Ð· Ð¼Ð½Ð¾Ð¶ÐµÑÑ‚Ð²Ð°, ÑÐ¾Ð´ÐµÑ€Ð¶Ð°Ñ‰ÐµÐ³Ð¾ $4$ Ñ‚ÑƒÐ·Ð°,\n",
    "2. Ð¾ÑÑ‚Ð°Ð²ÑˆÐ¸ÐµÑÑ $3$ ÐºÐ°Ñ€Ñ‚Ñ‹ Ð²Ñ‹Ñ‚ÑÐ³Ð¸Ð²Ð°ÑŽÑ‚ÑÑ ÑÐ»ÑƒÑ‡Ð°Ð¹Ð½Ð¾ Ð¸Ð· Ð¼Ð½Ð¾Ð¶ÐµÑÑ‚Ð²Ð°, ÑÐ¾Ð´ÐµÑ€Ð¶Ð°Ñ‰ÐµÐ³Ð¾ Ð¾ÑÑ‚Ð°Ð²ÑˆÐ¸ÐµÑÑ $32$ ÐºÐ°Ñ€Ñ‚Ñ‹ (Ð²ÑÑ‘ ÐºÑ€Ð¾Ð¼Ðµ Ñ‚ÑƒÐ·Ð¾Ð²).\n",
    "\n",
    "Ð§Ð¸ÑÐ»Ð¾ ÑÐ¿Ð¾ÑÐ¾Ð±Ð¾Ð² Ð´Ð¾ÑÑ‚Ð°Ñ‚ÑŒ $2$ Ñ‚ÑƒÐ·Ð° Ð¸Ð· Ñ‡ÐµÑ‚Ñ‹Ñ€Ñ‘Ñ…:"
   ]
  },
  {
   "cell_type": "code",
   "execution_count": 35,
   "metadata": {
    "colab": {
     "base_uri": "https://localhost:8080/",
     "height": 35
    },
    "colab_type": "code",
    "executionInfo": {
     "elapsed": 1017,
     "status": "ok",
     "timestamp": 1541495300653,
     "user": {
      "displayName": "Ð’Ð¸Ð¾Ð»ÐµÑ‚Ñ‚Ð° Ð“Ð°Ð¹Ð´Ð°Ðº",
      "photoUrl": "",
      "userId": "16983940382840418244"
     },
     "user_tz": -420
    },
    "id": "I0G2chFhXdp2",
    "outputId": "bd5f8f66-fd62-474b-beac-65f57c89a4fb"
   },
   "outputs": [
    {
     "data": {
      "text/plain": [
       "6"
      ]
     },
     "execution_count": 35,
     "metadata": {},
     "output_type": "execute_result"
    }
   ],
   "source": [
    "combinations(4, 2)"
   ]
  },
  {
   "cell_type": "markdown",
   "metadata": {
    "colab_type": "text",
    "id": "vR8Bgd_GsFKW"
   },
   "source": [
    "Ð§Ð¸ÑÐ»Ð¾ ÑÐ¿Ð¾ÑÐ¾Ð±Ð¾Ð² Ð´Ð¾ÑÑ‚Ð°Ñ‚ÑŒ $3$ ÐºÐ°Ñ€Ñ‚Ñ‹ Ð¸Ð· $32$:"
   ]
  },
  {
   "cell_type": "code",
   "execution_count": 36,
   "metadata": {
    "colab": {
     "base_uri": "https://localhost:8080/",
     "height": 35
    },
    "colab_type": "code",
    "executionInfo": {
     "elapsed": 1000,
     "status": "ok",
     "timestamp": 1541495301712,
     "user": {
      "displayName": "Ð’Ð¸Ð¾Ð»ÐµÑ‚Ñ‚Ð° Ð“Ð°Ð¹Ð´Ð°Ðº",
      "photoUrl": "",
      "userId": "16983940382840418244"
     },
     "user_tz": -420
    },
    "id": "cYJcvTuVXn6G",
    "outputId": "ace36d07-8b09-40e2-fb5a-913bb8efa137"
   },
   "outputs": [
    {
     "data": {
      "text/plain": [
       "4960"
      ]
     },
     "execution_count": 36,
     "metadata": {},
     "output_type": "execute_result"
    }
   ],
   "source": [
    "combinations(32, 3)"
   ]
  },
  {
   "cell_type": "markdown",
   "metadata": {
    "colab_type": "text",
    "id": "K-J4j6BnsFKY"
   },
   "source": [
    "Ð§Ð¸ÑÐ»Ð¾ $a$ Ñ€Ð°Ð²Ð½Ð¾ Ð¿Ñ€Ð¾Ð¸Ð·Ð²ÐµÐ´ÐµÐ½Ð¸ÑŽ ÑÑ‚Ð¸Ñ… Ð´Ð²ÑƒÑ… Ñ‡Ð¸ÑÐµÐ»:"
   ]
  },
  {
   "cell_type": "code",
   "execution_count": 37,
   "metadata": {
    "colab": {
     "base_uri": "https://localhost:8080/",
     "height": 35
    },
    "colab_type": "code",
    "executionInfo": {
     "elapsed": 770,
     "status": "ok",
     "timestamp": 1541495302596,
     "user": {
      "displayName": "Ð’Ð¸Ð¾Ð»ÐµÑ‚Ñ‚Ð° Ð“Ð°Ð¹Ð´Ð°Ðº",
      "photoUrl": "",
      "userId": "16983940382840418244"
     },
     "user_tz": -420
    },
    "id": "LQnsS5ADYGuP",
    "outputId": "d827eabe-df6a-4b4b-b147-e9743c56b1d7"
   },
   "outputs": [
    {
     "name": "stdout",
     "output_type": "stream",
     "text": [
      "29760\n"
     ]
    }
   ],
   "source": [
    "a = combinations(4, 2) * combinations(32, 3)\n",
    "\n",
    "print(a)"
   ]
  },
  {
   "cell_type": "markdown",
   "metadata": {
    "colab_type": "text",
    "id": "wf_Y6h-1sFKZ"
   },
   "source": [
    "Ð¢ÐµÐ¿ÐµÑ€ÑŒ Ñ€Ð°ÑÑÐ¼Ð¾Ñ‚Ñ€Ð¸Ð¼ ÑÐ¸Ñ‚ÑƒÐ°Ñ†Ð¸ÑŽ, ÐºÐ¾Ð³Ð´Ð° Ñ‚ÑƒÐ·Ð¾Ð² $3$. Ð¡Ð¾Ð¾Ñ‚Ð²ÐµÑ‚ÑÑ‚Ð²ÐµÐ½Ð½Ð¾, Ð¸Ð· Ð¾ÑÑ‚Ð°Ð²ÑˆÐ¸Ñ…ÑÑ $32$ ÐºÐ°Ñ€Ñ‚ Ð¼Ñ‹ Ð²Ñ‹Ñ‚ÑÐ³Ð¸Ð²Ð°ÐµÐ¼ $2$."
   ]
  },
  {
   "cell_type": "code",
   "execution_count": 38,
   "metadata": {
    "colab": {
     "base_uri": "https://localhost:8080/",
     "height": 35
    },
    "colab_type": "code",
    "executionInfo": {
     "elapsed": 818,
     "status": "ok",
     "timestamp": 1541495305340,
     "user": {
      "displayName": "Ð’Ð¸Ð¾Ð»ÐµÑ‚Ñ‚Ð° Ð“Ð°Ð¹Ð´Ð°Ðº",
      "photoUrl": "",
      "userId": "16983940382840418244"
     },
     "user_tz": -420
    },
    "id": "CALKLpyyYPyU",
    "outputId": "2e65039e-664f-48f6-f6aa-ec7ad24d4328"
   },
   "outputs": [
    {
     "name": "stdout",
     "output_type": "stream",
     "text": [
      "1984\n"
     ]
    }
   ],
   "source": [
    "b = combinations(4, 3) * combinations(32, 2)\n",
    "\n",
    "print(b)"
   ]
  },
  {
   "cell_type": "markdown",
   "metadata": {
    "colab_type": "text",
    "id": "yi6iylD_sFKd"
   },
   "source": [
    "Ð˜Ñ‚Ð°Ðº, Ð¸ÑÐºÐ¾Ð¼Ð¾Ðµ Ñ‡Ð¸ÑÐ»Ð¾ ÑÐ¿Ð¾ÑÐ¾Ð±Ð¾Ð²:"
   ]
  },
  {
   "cell_type": "code",
   "execution_count": 39,
   "metadata": {
    "colab": {
     "base_uri": "https://localhost:8080/",
     "height": 35
    },
    "colab_type": "code",
    "executionInfo": {
     "elapsed": 1050,
     "status": "ok",
     "timestamp": 1541495306445,
     "user": {
      "displayName": "Ð’Ð¸Ð¾Ð»ÐµÑ‚Ñ‚Ð° Ð“Ð°Ð¹Ð´Ð°Ðº",
      "photoUrl": "",
      "userId": "16983940382840418244"
     },
     "user_tz": -420
    },
    "id": "VKo6iTmLYR-b",
    "outputId": "6e6f62d9-de4b-4d36-fe01-8696a9f50f69"
   },
   "outputs": [
    {
     "data": {
      "text/plain": [
       "31744"
      ]
     },
     "execution_count": 39,
     "metadata": {},
     "output_type": "execute_result"
    }
   ],
   "source": [
    "a + b"
   ]
  },
  {
   "cell_type": "markdown",
   "metadata": {},
   "source": [
    "Ð¡Ñ„Ð¾Ñ€Ð¼ÑƒÐ»Ð¸Ñ€ÑƒÐµÐ¼ __ÐºÐ»Ð°ÑÑÐ¸Ñ‡ÐµÑÐºÐ¾Ðµ Ð¾Ð¿Ñ€ÐµÐ´ÐµÐ»ÐµÐ½Ð¸Ðµ Ð²ÐµÑ€Ð¾ÑÑ‚Ð½Ð¾ÑÑ‚Ð¸__. ÐŸÑ€ÐµÐ´Ð¿Ð¾Ð»Ð¾Ð¶Ð¸Ð¼, Ð¿Ñ€Ð¾Ð²Ð¾Ð´Ð¸Ñ‚ÑÑ Ð¾Ð¿Ñ‹Ñ‚ Ñ $n$ Ð²Ð¾Ð·Ð¼Ð¾Ð¶Ð½Ñ‹Ð¼Ð¸ Ð¸ÑÑ…Ð¾Ð´Ð°Ð¼Ð¸, Ð¿Ñ€Ð¸Ñ‡Ñ‘Ð¼ Ð²ÑÐµ ÑÑ‚Ð¸ Ð¸ÑÑ…Ð¾Ð´Ñ‹ Ñ€Ð°Ð²Ð½Ð¾Ð²Ð¾Ð·Ð¼Ð¾Ð¶Ð½Ñ‹ Ð¸ Ð½ÐµÑÐ¾Ð²Ð¼ÐµÑÑ‚Ð½Ñ‹. Ð¢Ð°ÐºÐ¸Ðµ Ð¸ÑÑ…Ð¾Ð´Ñ‹ Ð½Ð°Ð·Ñ‹Ð²Ð°ÑŽÑ‚ÑÑ __ÑÐ»ÐµÐ¼ÐµÐ½Ñ‚Ð°Ñ€Ð½Ñ‹Ð¼Ð¸ ÑÐ¾Ð±Ñ‹Ñ‚Ð¸ÑÐ¼Ð¸__.\n",
    "\n",
    "ÐÐ°Ð¿Ñ€Ð¸Ð¼ÐµÑ€, \n",
    "* Ð˜Ð³Ñ€Ð°Ð»ÑŒÐ½Ñ‹Ð¹ ÐºÑƒÐ±Ð¸Ðº Ð±Ñ€Ð¾ÑÐ°ÐµÑ‚ÑÑ Ð¾Ð´Ð½Ð°Ð¶Ð´Ñ‹. Ð•Ð³Ð¾ Ð²Ñ‹Ð¿Ð°Ð´ÐµÐ½Ð¸Ðµ ÐºÐ°Ð¶Ð´Ð¾Ð¹ Ð¸Ð· $6$ ÑÑ‚Ð¾Ñ€Ð¾Ð½ â€” Ð²ÑÐµ ÑÐ»ÐµÐ¼ÐµÐ½Ñ‚Ð°Ñ€Ð½Ñ‹Ðµ ÑÐ¾Ð±Ñ‹Ñ‚Ð¸Ñ.\n",
    "* ÐšÑƒÐ±Ð¸Ðº Ð±Ñ€Ð¾ÑÐ°ÐµÑ‚ÑÑ Ð´Ð²Ð°Ð¶Ð´Ñ‹. Ð­Ð»ÐµÐ¼ÐµÐ½Ñ‚Ð°Ñ€Ð½Ñ‹Ðµ ÑÐ¾Ð±Ñ‹Ñ‚Ð¸Ñ â€” Ð²ÑÐµ Ð¿Ð°Ñ€Ñ‹ ÐµÐ³Ð¾ Ð·Ð½Ð°Ñ‡ÐµÐ½Ð¸Ð¹.\n",
    "\n",
    "Ð Ð°ÑÑÐ¼Ð¾Ñ‚Ñ€Ð¸Ð¼ ÑÐ¾Ð±Ñ‹Ñ‚Ð¸Ðµ $A$, ÐºÐ¾Ñ‚Ð¾Ñ€Ð¾Ðµ Ð¼Ð¾Ð¶Ð½Ð¾ Â«ÑÐ¾Ð±Ñ€Ð°Ñ‚ÑŒÂ» Ð¸Ð· ÑÐ»ÐµÐ¼ÐµÐ½Ñ‚Ð°Ñ€Ð½Ñ‹Ñ… ÑÐ¾Ð±Ñ‹Ñ‚Ð¸Ð¹ (Ñ‚.Ðµ. ÑƒÐºÐ°Ð·Ð°Ñ‚ÑŒ, ÐºÐ°ÐºÐ¸Ðµ ÑÐ»ÐµÐ¼ÐµÐ½Ñ‚Ð°Ñ€Ð½Ñ‹Ðµ ÑÐ¾Ð±Ñ‹Ñ‚Ð¸Ñ Ð¿Ð¾Ð²Ð»ÐµÐºÑƒÑ‚ Ð·Ð° ÑÐ¾Ð±Ð¾Ð¹ ÑÐ¾Ð±Ñ‹Ñ‚Ð¸Ðµ $A$, Ð° ÐºÐ°ÐºÐ¸Ðµ â€” Ð½ÐµÑ‚).\n",
    "\n",
    "ÐÐ°Ð¿Ñ€Ð¸Ð¼ÐµÑ€, Ð²Ñ‹Ð¿Ð°Ð´ÐµÐ½Ð¸Ðµ ÐºÑƒÐ±Ð¸ÐºÐ° ÑÑ‚Ð¾Ñ€Ð¾Ð½Ð¾Ð¹, Ð·Ð½Ð°Ñ‡ÐµÐ½Ð¸Ðµ ÐºÐ¾Ñ‚Ð¾Ñ€Ð¾Ð¹ Ð½Ðµ Ð¿Ñ€ÐµÐ²Ñ‹ÑˆÐ°ÐµÑ‚ $3$, Ð²ÐºÐ»ÑŽÑ‡Ð°ÐµÑ‚ Ð² ÑÐµÐ±Ñ Ñ‚Ñ€Ð¸ ÑÐ»ÐµÐ¼ÐµÐ½Ñ‚Ð°Ñ€Ð½Ñ‹Ñ… ÑÐ¾Ð±Ñ‹Ñ‚Ð¸Ñ: $1$, $2$ Ð¸ $3$.\n",
    "\n",
    "__Ð’ÐµÑ€Ð¾ÑÑ‚Ð½Ð¾ÑÑ‚ÑŒ__ ÑÐ¾Ð±Ñ‹Ñ‚Ð¸Ñ $A$:\n",
    "$$P(A) = \\dfrac{m}{n}$$\n",
    "\n",
    "Ð—Ð´ÐµÑÑŒ $n$ â€” Ð¾Ð±Ñ‰ÐµÐµ Ñ‡Ð¸ÑÐ»Ð¾ Ð¸ÑÑ…Ð¾Ð´Ð¾Ð², Ð° $m$ â€” Ñ‡Ð¸ÑÐ»Ð¾ Ð¸ÑÑ…Ð¾Ð´Ð¾Ð², ÐºÐ¾Ñ‚Ð¾Ñ€Ñ‹Ðµ Ð²Ð»ÐµÐºÑƒÑ‚ Ð·Ð° ÑÐ¾Ð±Ð¾Ð¹ ÑÐ¾Ð±Ñ‹Ñ‚Ð¸Ðµ $A$."
   ]
  },
  {
   "cell_type": "markdown",
   "metadata": {},
   "source": [
    "__ÐŸÑ€Ð¸Ð¼ÐµÑ€ 8__\n",
    "\n",
    "Ð’Ñ‹Ñ‡Ð¸ÑÐ»Ð¸Ð¼ Ð²ÐµÑ€Ð¾ÑÑ‚Ð½Ð¾ÑÑ‚ÑŒ Ñ‚Ð¾Ð³Ð¾, Ñ‡Ñ‚Ð¾ Ð½Ð° Ð¸Ð³Ñ€Ð°Ð»ÑŒÐ½Ð¾Ð¹ ÐºÐ¾ÑÑ‚Ð¸ Ð²Ñ‹Ð¿Ð°Ð´ÐµÑ‚ Ñ‡Ð¸ÑÐ»Ð¾ $3$. Ð˜Ð·Ð²ÐµÑÑ‚Ð½Ð¾, Ñ‡Ñ‚Ð¾ Ñƒ ÐºÐ¾ÑÑ‚Ð¸ ÑˆÐµÑÑ‚ÑŒ Ð³Ñ€Ð°Ð½ÐµÐ¹ Ñ Ñ‡Ð¸ÑÐ»Ð°Ð¼Ð¸ Ð¾Ñ‚ $1$ Ð´Ð¾ $6$ Ð¸ ÐºÐ°Ð¶Ð´Ð°Ñ Ð¼Ð¾Ð¶ÐµÑ‚ Ð²Ñ‹Ð¿Ð°ÑÑ‚ÑŒ Ñ Ñ€Ð°Ð²Ð½Ð¾Ð¹ Ð²ÐµÑ€Ð¾ÑÑ‚Ð½Ð¾ÑÑ‚ÑŒÑŽ. ÐŸÐ¾ ÐºÐ»Ð°ÑÑÐ¸Ñ‡ÐµÑÐºÐ¾Ð¹ Ñ„Ð¾Ñ€Ð¼ÑƒÐ»Ðµ Ð²ÐµÑ€Ð¾ÑÑ‚Ð½Ð¾ÑÑ‚Ð¸ Ð¿Ð¾Ð»ÑƒÑ‡Ð°ÐµÐ¼ Ñ€ÐµÐ·ÑƒÐ»ÑŒÑ‚Ð°Ñ‚:\n",
    "$$P(A) = \\frac{m}{n} = \\frac{1}{6}$$"
   ]
  },
  {
   "cell_type": "markdown",
   "metadata": {},
   "source": [
    "__ÐŸÑ€Ð¸Ð¼ÐµÑ€ 9__\n",
    "\n",
    "Ð‘Ñ€Ð¾ÑÐ°ÑŽÑ‚ÑÑ Ð¾Ð´Ð½Ð¾Ð²Ñ€ÐµÐ¼ÐµÐ½Ð½Ð¾ Ñ‚Ñ€Ð¸ Ð¸Ð³Ñ€Ð°Ð»ÑŒÐ½Ñ‹Ñ… ÐºÑƒÐ±Ð¸ÐºÐ°. ÐšÐ°ÐºÐ¾Ð²Ð° Ð²ÐµÑ€Ð¾ÑÑ‚Ð½Ð¾ÑÑ‚ÑŒ Ñ‚Ð¾Ð³Ð¾, Ñ‡Ñ‚Ð¾ Ð²ÑÐµ Ñ‚Ñ€Ð¸ Ð·Ð½Ð°Ñ‡ÐµÐ½Ð¸Ñ Ð±ÑƒÐ´ÑƒÑ‚ Ð¾Ð´Ð¸Ð½Ð°ÐºÐ¾Ð²Ñ‹Ð¼Ð¸?\n",
    "\n",
    "Ð’ÑÐµÐ³Ð¾ ÐµÑÑ‚ÑŒ $6 \\cdot 6 \\cdot 6$ Ð¸ÑÑ…Ð¾Ð´Ð¾Ð², Ð¿Ð¾ÑÐºÐ¾Ð»ÑŒÐºÑƒ ÐºÐ°Ð¶Ð´Ñ‹Ð¹ Ð¸Ð· ÐºÑƒÐ±Ð¸ÐºÐ¾Ð² Ð¼Ð¾Ð¶ÐµÑ‚ Ð²Ñ‹Ð¿Ð°ÑÑ‚ÑŒ Ð»ÑŽÐ±Ð¾Ð¹ Ð¸Ð· $6$ ÑÑ‚Ð¾Ñ€Ð¾Ð½. ÐÐ°Ñ Ð¸Ð½Ñ‚ÐµÑ€ÐµÑÑƒÑŽÑ‚ Ð¸ÑÑ…Ð¾Ð´Ñ‹, Ð¿Ñ€Ð¸ ÐºÐ¾Ñ‚Ð¾Ñ€Ñ‹Ñ… Ð²ÑÐµ Ñ‚Ñ€Ð¸ Ð·Ð½Ð°Ñ‡ÐµÐ½Ð¸Ñ ÑÐ¾Ð²Ð¿Ð°Ð»Ð¸. Ð¢Ð°ÐºÐ¸Ñ… ÑÐ¾Ð±Ñ‹Ñ‚Ð¸Ð¹ $6$. Ð˜Ñ‚Ð°Ðº,\n",
    "$$P(A) = \\dfrac{6}{6^3} = \\dfrac{1}{36}$$"
   ]
  },
  {
   "cell_type": "markdown",
   "metadata": {},
   "source": [
    "### Ð£ÑÐ»Ð¾Ð²Ð½Ð°Ñ Ð²ÐµÑ€Ð¾ÑÑ‚Ð½Ð¾ÑÑ‚ÑŒ. ÐÐµÐ·Ð°Ð²Ð¸ÑÐ¸Ð¼Ñ‹Ðµ ÑÐ¾Ð±Ñ‹Ñ‚Ð¸Ñ\n",
    "\n",
    "ÐÐ°ÑÑ‚ÑƒÐ¿Ð»ÐµÐ½Ð¸Ðµ Ð¾Ð´Ð½Ð¾Ð³Ð¾ ÑÐ¾Ð±Ñ‹Ñ‚Ð¸Ñ Ð¼Ð¾Ð¶ÐµÑ‚ Ð²Ð»Ð¸ÑÑ‚ÑŒ Ð½Ð° Ð½Ð°ÑÑ‚ÑƒÐ¿Ð»ÐµÐ½Ð¸Ðµ Ð´Ñ€ÑƒÐ³Ð¾Ð³Ð¾. ÐÐ°Ð¿Ñ€Ð¸Ð¼ÐµÑ€, Ð²ÐµÑ€Ð¾ÑÑ‚Ð½Ð¾ÑÑ‚ÑŒ Ñ‚Ð¾Ð³Ð¾, Ñ‡Ñ‚Ð¾ Ð·Ð° Ð´ÐµÐ½ÑŒ Ñ…Ð¾Ñ‚ÑŒ Ñ€Ð°Ð· Ð²Ñ‹Ð¿Ð°Ð´ÐµÑ‚ ÑÐ½ÐµÐ³, Ð²Ñ‹ÑˆÐµ Ð·Ð¸Ð¼Ð¾Ð¹.\n",
    "\n",
    "__Ð£ÑÐ»Ð¾Ð²Ð½Ð°Ñ Ð²ÐµÑ€Ð¾ÑÑ‚Ð½Ð¾ÑÑ‚ÑŒ__ $P(A|B)$ â€” ÑÑ‚Ð¾ Ð²ÐµÑ€Ð¾ÑÑ‚Ð½Ð¾ÑÑ‚ÑŒ Ð½Ð°ÑÑ‚ÑƒÐ¿Ð»ÐµÐ½Ð¸Ñ ÑÐ¾Ð±Ñ‹Ñ‚Ð¸Ñ $A$ Ð¿Ñ€Ð¸ ÑƒÑÐ»Ð¾Ð²Ð¸Ð¸, Ñ‡Ñ‚Ð¾ Ð¿Ñ€Ð¾Ð¸Ð·Ð¾ÑˆÐ»Ð¾ ÑÐ¾Ð±Ñ‹Ñ‚Ð¸Ðµ $B$.\n",
    "$$P(A | B) = \\dfrac{P(AB)}{P(B)}$$\n",
    "\n",
    "_Ð—Ð°Ð¼ÐµÑ‡Ð°Ð½Ð¸Ðµ_. Ð¢Ð°ÐºÐ¾Ðµ Ð¾Ð¿Ñ€ÐµÐ´ÐµÐ»ÐµÐ½Ð¸Ðµ Ð¸Ð½Ñ‚ÑƒÐ¸Ñ‚Ð¸Ð²Ð½Ð¾ Ð½Ð°Ð¿Ð¾Ð¼Ð¸Ð½Ð°ÐµÑ‚ ÐºÐ»Ð°ÑÑÐ¸Ñ‡ÐµÑÐºÐ¾Ðµ Ð¾Ð¿Ñ€ÐµÐ´ÐµÐ»ÐµÐ½Ð¸Ðµ Ð²ÐµÑ€Ð¾ÑÑ‚Ð½Ð¾ÑÑ‚Ð¸, Ð´Ð°Ð½Ð½Ð¾Ðµ Ð²Ñ‹ÑˆÐµ: Â«Ð´Ð¾Ð»ÑÂ» Ð²ÐµÑ€Ð¾ÑÑ‚Ð½Ð¾ÑÑ‚Ð¸ ÑÐ¾Ð²Ð¼ÐµÑÑ‚Ð½Ð¾Ð³Ð¾ ÑÐ¾Ð±Ñ‹Ñ‚Ð¸Ñ $AB$ Ð¾Ñ‚Ð½Ð¾ÑÐ¸Ñ‚ÐµÐ»ÑŒÐ½Ð¾ Ð²ÐµÑ€Ð¾ÑÑ‚Ð½Ð¾ÑÑ‚Ð¸ ÑÐ¾Ð±Ñ‹Ñ‚Ð¸Ñ $B$.\n",
    "\n",
    "Ð¡Ð¾Ð±Ñ‹Ñ‚Ð¸Ñ $A$ Ð¸ $B$ Ð½Ð°Ð·Ñ‹Ð²Ð°ÑŽÑ‚ÑÑ __Ð½ÐµÐ·Ð°Ð²Ð¸ÑÐ¸Ð¼Ñ‹Ð¼Ð¸__, ÐµÑÐ»Ð¸ $P(A|B) = P(A)$, Ñ‚.Ðµ. ÐµÑÐ»Ð¸ Ð½Ð°ÑÑ‚ÑƒÐ¿Ð»ÐµÐ½Ð¸Ðµ ÑÐ¾Ð±Ñ‹Ñ‚Ð¸Ñ $B$ Ð½Ðµ Ð²Ð»Ð¸ÑÐµÑ‚ Ð½Ð° Ð²ÐµÑ€Ð¾ÑÑ‚Ð½Ð¾ÑÑ‚ÑŒ ÑÐ¾Ð±Ñ‹Ñ‚Ð¸Ñ $A$, Ð¸ Ð½Ð°Ð¾Ð±Ð¾Ñ€Ð¾Ñ‚. ÐÐ°Ð¿Ñ€Ð¸Ð¼ÐµÑ€, Ð¿Ñ€Ð¸ Ð¼Ð½Ð¾Ð³Ð¾ÐºÑ€Ð°Ñ‚Ð½Ð¾Ð¼ Ð±Ñ€Ð¾ÑÐºÐµ ÐºÑƒÐ±Ð¸ÐºÐ° Ñ€ÐµÐ·ÑƒÐ»ÑŒÑ‚Ð°Ñ‚Ñ‹ Ð¾Ð´Ð½Ð¾Ð³Ð¾ Ð±Ñ€Ð¾ÑÐºÐ° Ð½Ð¸ÐºÐ°Ðº Ð½Ðµ Ð²Ð»Ð¸ÑÑŽÑ‚ Ð½Ð° Ñ€ÐµÐ·ÑƒÐ»ÑŒÑ‚Ð°Ñ‚Ñ‹ Ð´Ñ€ÑƒÐ³Ð¸Ñ… Ð±Ñ€Ð¾ÑÐºÐ¾Ð². ÐÐ°Ð¿Ñ€Ð¾Ñ‚Ð¸Ð², ÑÐ¾Ð±Ñ‹Ñ‚Ð¸Ñ Â«Ð·Ð¸Ð¼Ð°Â» Ð¸ Â«ÑÐ½ÐµÐ³Â» Ð¸Ð· Ð¿Ñ€Ð¸Ð¼ÐµÑ€Ð° Ð²Ñ‹ÑˆÐµ, ÑÐ²Ð»ÑÑŽÑ‚ÑÑ Ð·Ð°Ð²Ð¸ÑÐ¸Ð¼Ñ‹Ð¼Ð¸.\n",
    "\n",
    "_Ð—Ð°Ð¼ÐµÑ‡Ð°Ð½Ð¸Ðµ_. Ð—Ð°Ð²Ð¸ÑÐ¸Ð¼Ð¾ÑÑ‚ÑŒ ÑÐ¾Ð±Ñ‹Ñ‚Ð¸Ð¹ Ð½Ðµ Ð¾Ð·Ð½Ð°Ñ‡Ð°ÐµÑ‚, Ñ‡Ñ‚Ð¾ Ð¾Ð´Ð½Ð¾ Ð³Ð°Ñ€Ð°Ð½Ñ‚Ð¸Ñ€Ð¾Ð²Ð°Ð½Ð½Ð¾ Ð²Ð»ÐµÑ‡Ñ‘Ñ‚ Ð´Ñ€ÑƒÐ³Ð¾Ðµ. ÐžÐ½Ð° Ð»Ð¸ÑˆÑŒ Ð¾Ð·Ð½Ð°Ñ‡Ð°ÐµÑ‚, Ñ‡Ñ‚Ð¾ Ð½Ð°ÑÑ‚ÑƒÐ¿Ð»ÐµÐ½Ð¸Ðµ Ð¾Ð´Ð½Ð¾Ð³Ð¾ __Ð¼ÐµÐ½ÑÐµÑ‚ Ð²ÐµÑ€Ð¾ÑÑ‚Ð½Ð¾ÑÑ‚ÑŒ__ Ð½Ð°ÑÑ‚ÑƒÐ¿Ð»ÐµÐ½Ð¸Ñ Ð´Ñ€ÑƒÐ³Ð¾Ð³Ð¾.\n",
    "\n",
    "__Ð”Ð»Ñ Ð½ÐµÐ·Ð°Ð²Ð¸ÑÐ¸Ð¼Ñ‹Ñ… ÑÐ¾Ð±Ñ‹Ñ‚Ð¸Ð¹__:\n",
    "$$P(AB) = P(A) \\cdot P(B)$$\n",
    "\n",
    "_Ð—Ð°Ð¼ÐµÑ‡Ð°Ð½Ð¸Ðµ_. ÐÐ½Ð°Ð»Ð¾Ð³Ð¸Ñ‡Ð½Ð¾ ÑÑƒÐ¼Ð¼Ð¸Ñ€Ð¾Ð²Ð°Ð½Ð¸ÑŽ, __Ð²ÐµÑ€Ð¾ÑÑ‚Ð½Ð¾ÑÑ‚Ð¸ Ð¿Ñ€Ð¾Ð¸Ð·Ð²Ð¾Ð»ÑŒÐ½Ñ‹Ñ… ÑÐ¾Ð±Ñ‹Ñ‚Ð¸Ð¹ Ð¿ÐµÑ€ÐµÐ¼Ð½Ð¾Ð¶Ð°Ñ‚ÑŒ Ð½ÐµÐ»ÑŒÐ·Ñ__, ÑÐ¿ÐµÑ€Ð²Ð° Ð½ÐµÐ¾Ð±Ñ…Ð¾Ð´Ð¸Ð¼Ð¾ ÑƒÑÑ‚Ð°Ð½Ð¾Ð²Ð¸Ñ‚ÑŒ Ð½ÐµÐ·Ð°Ð²Ð¸ÑÐ¸Ð¼Ð¾ÑÑ‚ÑŒ ÑÐ¾Ð±Ñ‹Ñ‚Ð¸Ð¹."
   ]
  },
  {
   "cell_type": "markdown",
   "metadata": {},
   "source": [
    "__ÐŸÑ€Ð¸Ð¼ÐµÑ€ 10__\n",
    "\n",
    "ÐÐ°ÑƒÐ³Ð°Ð´ Ð²Ñ‹Ð±Ð¸Ñ€Ð°ÐµÑ‚ÑÑ Ñ‚Ð¾Ñ‡ÐºÐ° Ñ ÐºÑ€ÑƒÐ³Ð»Ð¾Ð¹ Ð¼Ð¸ÑˆÐµÐ½Ð¸. ÐŸÑƒÑÑ‚ÑŒ ÑÐ¾Ð±Ñ‹Ñ‚Ð¸Ðµ $A$ Ð·Ð°ÐºÐ»ÑŽÑ‡Ð°ÐµÑ‚ÑÑ Ð² Ð²Ñ‹Ð±Ð¾Ñ€Ðµ Ñ‚Ð¾Ñ‡ÐºÐ¸ Ð¸Ð· Ð¿Ñ€Ð°Ð²Ð¾Ð¹ Ð¿Ð¾Ð»Ð¾Ð²Ð¸Ð½Ñ‹, Ð° ÑÐ¾Ð±Ñ‹Ñ‚Ð¸Ðµ $B$ â€” Ð²Ñ‹Ð±Ð¾Ñ€ Ñ‚Ð¾Ñ‡ÐºÐ¸ Ð¸Ð· Ð½Ð¸Ð¶Ð½ÐµÐ¹ Ð¿Ð¾Ð»Ð¾Ð²Ð¸Ð½Ñ‹. Ð¯Ð²Ð»ÑÑŽÑ‚ÑÑ Ð»Ð¸ ÑÑ‚Ð¸ ÑÐ¾Ð±Ñ‹Ñ‚Ð¸Ñ Ð·Ð°Ð²Ð¸ÑÐ¸Ð¼Ñ‹Ð¼Ð¸?\n",
    "\n",
    "Ð¡Ñ‡Ð¸Ñ‚Ð°ÐµÐ¼, Ñ‡Ñ‚Ð¾ $P(A) = P(B) = 1/2$. ÐŸÐ¾ÑÑ‡Ð¸Ñ‚Ð°ÐµÐ¼ ÑÐ¾Ð²Ð¼ÐµÑÑ‚Ð½ÑƒÑŽ Ð²ÐµÑ€Ð¾ÑÑ‚Ð½Ð¾ÑÑ‚ÑŒ $P(AB)$. Ð¡Ð¾Ð±Ñ‹Ñ‚Ð¸Ðµ $AB$ ÑÐ¾Ð¾Ñ‚Ð²ÐµÑ‚ÑÑ‚Ð²ÑƒÐµÑ‚ Ð²Ñ‹Ð±Ð¾Ñ€Ñƒ Ñ‚Ð¾Ñ‡ÐºÐ¸ Ð¸Ð· Ð¿Ñ€Ð°Ð²Ð¾Ð¹ Ð½Ð¸Ð¶Ð½ÐµÐ¹ Ñ‡ÐµÑ‚Ð²ÐµÑ€Ñ‚Ð¸, Ñ‚.Ðµ. $P(AB) = 1/4$. Ð¡Ð»ÐµÐ´Ð¾Ð²Ð°Ñ‚ÐµÐ»ÑŒÐ½Ð¾, \n",
    "$$P(A|B) = \\dfrac{P(AB)}{P(B)} = \\dfrac{\\frac{1}{4}}{\\frac{1}{2}} = \\dfrac{1}{2}.$$\n",
    "\n",
    "ÐŸÐ¾ÑÐºÐ¾Ð»ÑŒÐºÑƒ $P(A|B) = P(A)$, Ð·Ð°ÐºÐ»ÑŽÑ‡Ð°ÐµÐ¼, Ñ‡Ñ‚Ð¾ ÑÐ¾Ð±Ñ‹Ñ‚Ð¸Ñ $A$ Ð¸ $B$ Ð½ÐµÐ·Ð°Ð²Ð¸ÑÐ¸Ð¼Ñ‹."
   ]
  },
  {
   "cell_type": "markdown",
   "metadata": {},
   "source": [
    "### Ð¤Ð¾Ñ€Ð¼ÑƒÐ»Ð° Ð¿Ð¾Ð»Ð½Ð¾Ð¹ Ð²ÐµÑ€Ð¾ÑÑ‚Ð½Ð¾ÑÑ‚Ð¸. Ð¤Ð¾Ñ€Ð¼ÑƒÐ»Ð° Ð‘Ð°Ð¹ÐµÑÐ°\n",
    "\n",
    "Ð“Ð¾Ð²Ð¾Ñ€ÑÑ‚, Ñ‡Ñ‚Ð¾ ÑÐ¾Ð±Ñ‹Ñ‚Ð¸Ñ $H_1$, $H_2$, $\\dots$, $H_n$ Ð¾Ð±Ñ€Ð°Ð·ÑƒÑŽÑ‚ __Ð¿Ð¾Ð»Ð½ÑƒÑŽ Ð³Ñ€ÑƒÐ¿Ð¿Ñƒ ÑÐ¾Ð±Ñ‹Ñ‚Ð¸Ð¹__, ÐµÑÐ»Ð¸ Ð¾Ð½Ð¸ Ð½ÐµÑÐ¾Ð²Ð¼ÐµÑÑ‚Ð½Ñ‹, Ð¸ Ð² Ñ…Ð¾Ð´Ðµ Ð»ÑŽÐ±Ð¾Ð³Ð¾ Ð¸ÑÐ¿Ñ‹Ñ‚Ð°Ð½Ð¸Ñ Ð¾Ð´Ð½Ð¾ Ð¸Ð· ÑÑ‚Ð¸Ñ… ÑÐ¾Ð±Ñ‹Ñ‚Ð¸Ð¹ Ð¾Ð±ÑÐ·Ð°Ñ‚ÐµÐ»ÑŒÐ½Ð¾ Ð¿Ñ€Ð¾Ð¸Ð·Ð¾Ð¹Ð´Ñ‘Ñ‚.\n",
    "\n",
    "__Ð¤Ð¾Ñ€Ð¼ÑƒÐ»Ð° Ð¿Ð¾Ð»Ð½Ð¾Ð¹ Ð²ÐµÑ€Ð¾ÑÑ‚Ð½Ð¾ÑÑ‚Ð¸__ Ð´Ð»Ñ Ñ‚Ð°ÐºÐ¸Ñ… ÑÐ¾Ð±Ñ‹Ñ‚Ð¸Ð¹ Ð¸ Ð¿Ñ€Ð¾Ð¸Ð·Ð²Ð¾Ð»ÑŒÐ½Ð¾Ð³Ð¾ ÑÐ¾Ð±Ñ‹Ñ‚Ð¸Ñ $A$:\n",
    "$$P(A) = P(A | H_1) \\cdot P(H_1) + P(A | H_2) \\cdot P(H_2) + \\dots + P(A | H_n) \\cdot P(H_n).$$\n",
    "\n",
    "Ð’ Ñ‡Ð°ÑÑ‚Ð½Ð¾ÑÑ‚Ð¸, Ð´Ð»Ñ Ð»ÑŽÐ±Ñ‹Ñ… ÑÐ¾Ð±Ñ‹Ñ‚Ð¸Ð¹ $A$ Ð¸ $B$:\n",
    "$$P(A) = P(A | B) \\cdot P(B) + P \\left( A | \\overline{B} \\right) \\cdot P \\left( \\overline{B} \\right)$$"
   ]
  },
  {
   "cell_type": "markdown",
   "metadata": {},
   "source": [
    "__ÐŸÑ€Ð¸Ð¼ÐµÑ€ 11__\n",
    "\n",
    "Ð•ÑÑ‚ÑŒ Ñ‚Ñ€Ð¸ Ð¾Ð´Ð¸Ð½Ð°ÐºÐ¾Ð²Ñ‹Ðµ ÐºÐ¾Ñ€Ð·Ð¸Ð½Ñ‹. Ð’ Ð¿ÐµÑ€Ð²Ð¾Ð¹ Ð»ÐµÐ¶Ð°Ñ‚ Ñ‚Ñ€Ð¸ ÐºÑ€Ð°ÑÐ½Ñ‹Ñ… Ð¸ Ð¿ÑÑ‚ÑŒ Ð·ÐµÐ»Ñ‘Ð½Ñ‹Ñ… Ð¼ÑÑ‡ÐµÐ¹, Ð²Ð¾ Ð²Ñ‚Ð¾Ñ€Ð¾Ð¹ â€” Ñ‚Ð¾Ð»ÑŒÐºÐ¾ ÐºÑ€Ð°ÑÐ½Ñ‹Ðµ, Ð° Ð² Ñ‚Ñ€ÐµÑ‚ÑŒÐµÐ¹ â€” Ñ‚Ð¾Ð»ÑŒÐºÐ¾ Ð·ÐµÐ»Ñ‘Ð½Ñ‹Ðµ Ð¼ÑÑ‡Ð¸. Ð¡Ð»ÑƒÑ‡Ð°Ð¹Ð½Ð¾ Ð²Ñ‹Ð±Ð¸Ñ€Ð°ÐµÑ‚ÑÑ Ð¾Ð´Ð½Ð° ÐºÐ¾Ñ€Ð·Ð¸Ð½Ð°, Ð¸ Ð¸Ð· Ð½ÐµÑ‘ ÑÐ»ÑƒÑ‡Ð°Ð¹Ð½Ñ‹Ð¼ Ð¾Ð±Ñ€Ð°Ð·Ð¾Ð¼ Ð¸Ð·Ð²Ð»ÐµÐºÐ°ÐµÑ‚ÑÑ Ð¼ÑÑ‡. \n",
    "\n",
    "_Ð’Ð¾Ð¿Ñ€Ð¾Ñ_: ÐšÐ°ÐºÐ¾Ð²Ð° Ð²ÐµÑ€Ð¾ÑÑ‚Ð½Ð¾ÑÑ‚ÑŒ Ñ‚Ð¾Ð³Ð¾, Ñ‡Ñ‚Ð¾ ÑÑ‚Ð¾Ñ‚ Ð¼ÑÑ‡ â€” Ð·ÐµÐ»Ñ‘Ð½Ñ‹Ð¹?\n",
    "\n",
    "Ð ÐµÑˆÐ¸Ð¼ ÑÑ‚Ñƒ Ð·Ð°Ð´Ð°Ñ‡Ñƒ Ñ Ð¿Ð¾Ð¼Ð¾Ñ‰ÑŒÑŽ Ñ„Ð¾Ñ€Ð¼ÑƒÐ»Ñ‹ Ð¿Ð¾Ð»Ð½Ð¾Ð¹ Ð²ÐµÑ€Ð¾ÑÑ‚Ð½Ð¾ÑÑ‚Ð¸. Ð¡Ð¾Ð±Ñ‹Ñ‚Ð¸ÐµÐ¼ $A$ Ð±ÑƒÐ´ÐµÐ¼ ÑÑ‡Ð¸Ñ‚Ð°Ñ‚ÑŒ Ñ‚Ð¾, Ñ‡Ñ‚Ð¾ Ð´Ð¾ÑÑ‚Ð°Ð»Ð¸ Ð·ÐµÐ»Ñ‘Ð½Ñ‹Ð¹ Ð¼ÑÑ‡, Ð° ÑÐ¾Ð±Ñ‹Ñ‚Ð¸ÐµÐ¼ $H_i$ â€” Ñ‡Ñ‚Ð¾ Ð²Ñ‹Ð±ÐµÑ€ÑƒÑ‚ $i$-ÑŽ ÐºÐ¾Ñ€Ð·Ð¸Ð½Ñƒ. Ð‘ÑƒÐ´ÐµÐ¼ ÑÑ‡Ð¸Ñ‚Ð°Ñ‚ÑŒ, Ñ‡Ñ‚Ð¾ Ð½Ð¸ Ð¾Ð´Ð½Ð¾Ð¹ Ð¸Ð· ÐºÐ¾Ñ€Ð·Ð¸Ð½ Ð½Ðµ Ð´ÐµÐ»Ð°ÐµÑ‚ÑÑ Ð¿Ñ€ÐµÐ´Ð¿Ð¾Ñ‡Ñ‚ÐµÐ½Ð¸Ðµ. Ð”Ñ€ÑƒÐ³Ð¸Ð¼Ð¸ ÑÐ»Ð¾Ð²Ð°Ð¼Ð¸, Ð²ÐµÑ€Ð¾ÑÑ‚Ð½Ð¾ÑÑ‚ÑŒ Ð²Ñ‹Ð±Ñ€Ð°Ñ‚ÑŒ ÐºÐ°Ð¶Ð´ÑƒÑŽ ÐºÐ¾Ñ€Ð·Ð¸Ð½Ñƒ Ñ€Ð°Ð²Ð½Ð° $P(H_i) = 1/3$.\n",
    "\n",
    "Ð’ÐµÑ€Ð¾ÑÑ‚Ð½Ð¾ÑÑ‚ÑŒ Ð´Ð¾ÑÑ‚Ð°Ñ‚ÑŒ Ð·ÐµÐ»Ñ‘Ð½Ñ‹Ð¹ Ð¼ÑÑ‡ Ð¿Ñ€Ð¸ ÑƒÑÐ»Ð¾Ð²Ð¸Ð¸, Ñ‡Ñ‚Ð¾ Ð²Ñ‹Ð±Ñ€Ð°Ð½Ð° Ð¿ÐµÑ€Ð²Ð°Ñ ÐºÐ¾Ñ€Ð·Ð¸Ð½Ð°, Ñ€Ð°Ð²ÐµÐ½ $P(A | H_1) = \\dfrac{5}{3 + 5} = \\dfrac{5}{8}$. ÐŸÑ€Ð¸ Ð²Ñ‹Ð±Ð¾Ñ€Ðµ Ð²Ñ‚Ð¾Ñ€Ð¾Ð¹ ÐºÐ¾Ñ€Ð·Ð¸Ð½Ñ‹ Ð²ÐµÑ€Ð¾ÑÑ‚Ð½Ð¾ÑÑ‚ÑŒ Ð²Ñ‹Ð½ÑƒÑ‚ÑŒ Ð·ÐµÐ»Ñ‘Ð½Ñ‹Ð¹ Ð¼ÑÑ‡ Ñ€Ð°Ð²Ð½Ð° $P(A | H_2) = 0$. Ð’ ÑÐ»ÑƒÑ‡Ð°Ðµ Ñ Ñ‚Ñ€ÐµÑ‚ÑŒÐµÐ¹ ÐºÐ¾Ñ€Ð·Ð¸Ð½Ð¾Ð¹ Ð²ÐµÑ€Ð¾ÑÑ‚Ð½Ð¾ÑÑ‚ÑŒ Ñ€Ð°Ð²Ð½Ð° $P(A | H_3) = 1$, Ñ‚Ð°Ðº ÐºÐ°Ðº Ð²ÑÐµ Ð¼ÑÑ‡Ð¸ Ð² Ð½ÐµÐ¹ â€” Ð·ÐµÐ»Ñ‘Ð½Ñ‹Ðµ.\n",
    "\n",
    "ÐŸÐ¾Ð´ÑÑ‚Ð°Ð²Ð¸Ð¼ Ð´Ð°Ð½Ð½Ñ‹Ðµ Ð·Ð½Ð°Ñ‡ÐµÐ½Ð¸Ñ Ð² Ñ„Ð¾Ñ€Ð¼ÑƒÐ»Ñƒ Ð¿Ð¾Ð»Ð½Ð¾Ð¹ Ð²ÐµÑ€Ð¾ÑÑ‚Ð½Ð¾ÑÑ‚Ð¸ Ð¸ Ð¿Ð¾Ð»ÑƒÑ‡Ð¸Ð¼ Ð¾Ñ‚Ð²ÐµÑ‚:\n",
    "$$P(A) = \\frac{5}{8} \\cdot \\frac{1}{3} + 0 \\cdot \\frac{1}{3} + 1 \\cdot \\frac{1}{3} = \\frac{5}{24} + 0 + \\frac{1}{3} = \\frac{13}{24} \\approx 0.5417.$$"
   ]
  },
  {
   "cell_type": "code",
   "execution_count": 40,
   "metadata": {},
   "outputs": [
    {
     "data": {
      "text/plain": [
       "0.5416666666666666"
      ]
     },
     "execution_count": 40,
     "metadata": {},
     "output_type": "execute_result"
    }
   ],
   "source": [
    "13 / 24"
   ]
  },
  {
   "cell_type": "markdown",
   "metadata": {},
   "source": [
    "__Ð¤Ð¾Ñ€Ð¼ÑƒÐ»Ð° Ð‘Ð°Ð¹ÐµÑÐ°__ Ð¿Ð¾Ð·Ð²Ð¾Ð»ÑÐµÑ‚ Â«Ñ€Ð°Ð·Ð²ÐµÑ€Ð½ÑƒÑ‚ÑŒÂ» ÑƒÑÐ»Ð¾Ð²Ð½ÑƒÑŽ Ð²ÐµÑ€Ð¾ÑÑ‚Ð½Ð¾ÑÑ‚ÑŒ $P(A|B)$, Ñ‚.Ðµ. Ð²Ñ‹Ñ€Ð°Ð·Ð¸Ñ‚ÑŒ ÐµÑ‘ Ñ‡ÐµÑ€ÐµÐ· $P(B|A)$. ÐŸÐ¾ Ð¾Ð¿Ñ€ÐµÐ´ÐµÐ»ÐµÐ½Ð¸ÑŽ ÑƒÑÐ»Ð¾Ð²Ð½Ð¾Ð¹ Ð²ÐµÑ€Ð¾ÑÑ‚Ð½Ð¾ÑÑ‚Ð¸:\n",
    "$$P(A|B) = \\dfrac{P(AB)}{P(B)}$$\n",
    "Ð¡Ð¾Ð²Ð¼ÐµÑÑ‚Ð½ÑƒÑŽ Ð²ÐµÑ€Ð¾ÑÑ‚Ð½Ð¾ÑÑ‚ÑŒ $P(AB)$ Ð¼Ð¾Ð¶Ð½Ð¾ Ñ‚ÐµÐ¿ÐµÑ€ÑŒ Ð²Ñ‹Ñ€Ð°Ð·Ð¸Ñ‚ÑŒ Ð² Ð¾Ð±Ñ€Ð°Ñ‚Ð½Ð¾Ð¼ Ð¿Ð¾Ñ€ÑÐ´ÐºÐµ:\n",
    "$P(AB) = P(B|A) \\cdot P(A)$\n",
    "\n",
    "Ð˜Ñ‚Ð°Ðº, Ñ„Ð¾Ñ€Ð¼ÑƒÐ»Ð° Ð‘Ð°Ð¹ÐµÑÐ°:\n",
    "$$P(A|B) = \\dfrac{P(B|A) \\cdot P(A)}{P(B)}$$"
   ]
  },
  {
   "cell_type": "markdown",
   "metadata": {
    "colab_type": "text",
    "id": "7euBINZMsFKw"
   },
   "source": [
    "__ÐŸÑ€Ð¸Ð¼ÐµÑ€ 12__\n",
    "\n",
    "Ð¡Ð¾Ñ€ÐµÐ²Ð½Ð¾Ð²Ð°Ð½Ð¸Ñ Ð¿Ð¾ Ð±Ð¸Ð°Ñ‚Ð»Ð¾Ð½Ñƒ. ÐžÐ´Ð¸Ð½ Ð¸Ð· Ñ‚Ñ€Ñ‘Ñ… ÑÐ¿Ð¾Ñ€Ñ‚ÑÐ¼ÐµÐ½Ð¾Ð² ÑÑ‚Ñ€ÐµÐ»ÑÐµÑ‚ Ð¸ Ð¿Ð¾Ð¿Ð°Ð´Ð°ÐµÑ‚ Ð² Ð¼Ð¸ÑˆÐµÐ½ÑŒ. Ð’ÐµÑ€Ð¾ÑÑ‚Ð½Ð¾ÑÑ‚ÑŒ Ñ‚Ð°ÐºÐ¾Ð³Ð¾ ÑÐ¾Ð±Ñ‹Ñ‚Ð¸Ñ Ð´Ð»Ñ Ð¿ÐµÑ€Ð²Ð¾Ð³Ð¾ ÑÐ¿Ð¾Ñ€Ñ‚ÑÐ¼ÐµÐ½Ð° Ñ€Ð°Ð²Ð½Ð° $0.2$, Ð´Ð»Ñ Ð²Ñ‚Ð¾Ñ€Ð¾Ð³Ð¾ â€” $0.4$, Ð´Ð»Ñ Ñ‚Ñ€ÐµÑ‚ÑŒÐµÐ³Ð¾ â€” $0.7$.\n",
    "\n",
    "_Ð—Ð°Ð´Ð°Ñ‡Ð°_: Ð½Ð°Ð¹Ñ‚Ð¸ Ð²ÐµÑ€Ð¾ÑÑ‚Ð½Ð¾ÑÑ‚ÑŒ Ñ‚Ð¾Ð³Ð¾, Ñ‡Ñ‚Ð¾ ÑÑ‚Ñ€ÐµÐ»ÑÐ» Ñ‚Ñ€ÐµÑ‚Ð¸Ð¹ ÑÐ¿Ð¾Ñ€Ñ‚ÑÐ¼ÐµÐ½.\n",
    "\n",
    "Ð¡Ñ€Ð°Ð·Ñƒ Ð¶Ðµ Ð¾Ð¿Ñ€ÐµÐ´ÐµÐ»Ð¸Ð¼ÑÑ Ñ Ñ‚ÐµÐ¼, ÐºÐ°ÐºÐ¸Ðµ ÑÐ¾Ð±Ñ‹Ñ‚Ð¸Ñ Ð¼Ñ‹ Ð·Ð´ÐµÑÑŒ Ñ€Ð°ÑÑÐ¼Ð°Ñ‚Ñ€Ð¸Ð²Ð°ÐµÐ¼. ÐŸÑƒÑÑ‚ÑŒ ÑÐ¾Ð±Ñ‹Ñ‚Ð¸Ðµ $A$ Ð·Ð°ÐºÐ»ÑŽÑ‡Ð°ÐµÑ‚ÑÑ Ð² Ñ‚Ð¾Ð¼, Ñ‡Ñ‚Ð¾ Ð¿Ñ€Ð¾Ð¸Ð·Ð¾ÑˆÐ»Ð¾ Ð¿Ð¾Ð¿Ð°Ð´Ð°Ð½Ð¸Ðµ Ð² Ð¼Ð¸ÑˆÐµÐ½ÑŒ. ÐšÑ€Ð¾Ð¼Ðµ Ñ‚Ð¾Ð³Ð¾, Ð¿ÑƒÑÑ‚ÑŒ Ð´Ð»Ñ ÐºÐ°Ð¶Ð´Ð¾Ð³Ð¾ $i \\in \\{ 1, 2, 3 \\}$ ÑÐ¾Ð±Ñ‹Ñ‚Ð¸Ðµ $B_i$ Ð·Ð°ÐºÐ»ÑŽÑ‡Ð°ÐµÑ‚ÑÑ Ð² Ñ‚Ð¾Ð¼, Ñ‡Ñ‚Ð¾ Ð²Ñ‹ÑÑ‚Ñ€ÐµÐ»Ð¸Ð» $i$-Ð¹ ÑÐ¿Ð¾Ñ€Ñ‚ÑÐ¼ÐµÐ½.\n",
    "\n",
    "Ð’ Ñ‚Ð°ÐºÐ¾Ð¹ Ñ„Ð¾Ñ€Ð¼ÑƒÐ»Ð¸Ñ€Ð¾Ð²ÐºÐµ Ð½Ð°ÑˆÐ° Ð·Ð°Ð´Ð°Ñ‡Ð° â€” Ð½Ð°Ð¹Ñ‚Ð¸ Ð²ÐµÑ€Ð¾ÑÑ‚Ð½Ð¾ÑÑ‚ÑŒ $P(B_3 | A)$. ÐŸÐ¾ Ñ„Ð¾Ñ€Ð¼ÑƒÐ»Ðµ Ð‘Ð°Ð¹ÐµÑÐ°:\n",
    "$$P(B_3|A) = \\frac{P(A|B_3) \\cdot P(B_3)}{P(A)}.$$\n",
    "\n",
    "ÐœÑ‹ Ð¼Ð¾Ð¶ÐµÐ¼ ÑÑ‡Ð¸Ñ‚Ð°Ñ‚ÑŒ, Ñ‡Ñ‚Ð¾ ÐºÐ°Ð¶Ð´Ð¾Ð¼Ñƒ ÑÐ¿Ð¾Ñ€Ñ‚ÑÐ¼ÐµÐ½Ñƒ Ð±Ñ‹Ð»Ð¸ Ð´Ð°Ð½Ñ‹ Ð¾Ð´Ð¸Ð½Ð°ÐºÐ¾Ð²Ñ‹Ðµ Ð²Ð¾Ð·Ð¼Ð¾Ð¶Ð½Ð¾ÑÑ‚Ð¸ Ð²Ñ‹ÑÑ‚Ñ€ÐµÐ»Ð¸Ñ‚ÑŒ. ÐŸÐ¾ÑÑ‚Ð¾Ð¼Ñƒ Ð¼Ð¾Ð¶Ð½Ð¾ Ð¿Ñ€ÐµÐ´Ð¿Ð¾Ð»Ð¾Ð¶Ð¸Ñ‚ÑŒ, Ñ‡Ñ‚Ð¾ Ð²ÐµÑ€Ð¾ÑÑ‚Ð½Ð¾ÑÑ‚ÑŒ ÐºÐ°Ð¶Ð´Ð¾Ð³Ð¾ ÑÐ¾Ð±Ñ‹Ñ‚Ð¸Ñ $B_i$ Ñ€Ð°Ð²Ð½Ð° $P(B_i) =  1/3$.\n",
    "\n",
    "ÐšÑ€Ð¾Ð¼Ðµ Ñ‚Ð¾Ð³Ð¾, Ð½Ð°Ð¼ Ð´Ð°Ð½Ñ‹ Ð²ÐµÑ€Ð¾ÑÑ‚Ð½Ð¾ÑÑ‚Ð¸ Ð¿Ð¾Ð¿Ð°Ð´Ð°Ð½Ð¸Ñ Ð² Ð¼Ð¸ÑˆÐµÐ½ÑŒ Ð´Ð»Ñ ÐºÐ°Ð¶Ð´Ð¾Ð³Ð¾ Ð¸Ð· ÑÐ¿Ð¾Ñ€Ñ‚ÑÐ¼ÐµÐ½Ð¾Ð²:\n",
    "$$P(A|B_1) = 0.2$$\n",
    "$$P(A|B_2) = 0.4$$\n",
    "$$P(A|B_3) = 0.7$$\n",
    "\n",
    "ÐžÑÑ‚Ð°Ñ‘Ñ‚ÑÑ Ð»Ð¸ÑˆÑŒ Ð¾Ñ†ÐµÐ½Ð¸Ñ‚ÑŒ Ð±ÐµÐ·ÑƒÑÐ»Ð¾Ð²Ð½ÑƒÑŽ Ð²ÐµÑ€Ð¾ÑÑ‚Ð½Ð¾ÑÑ‚ÑŒ Ð¿Ð¾Ð¿Ð°Ð´Ð°Ð½Ð¸Ñ Ð² Ð¼Ð¸ÑˆÐµÐ½ÑŒ â€” $P(A)$. Ð”Ð»Ñ ÑÑ‚Ð¾Ð³Ð¾ Ð²Ð¾ÑÐ¿Ð¾Ð»ÑŒÐ·ÑƒÐµÐ¼ÑÑ Ñ„Ð¾Ñ€Ð¼ÑƒÐ»Ð¾Ð¹ Ð¿Ð¾Ð»Ð½Ð¾Ð¹ Ð²ÐµÑ€Ð¾ÑÑ‚Ð½Ð¾ÑÑ‚Ð¸, ÑÑ‡Ð¸Ñ‚Ð°Ñ, Ñ‡Ñ‚Ð¾ ÐºÑ€Ð¾Ð¼Ðµ Ð½Ð°ÑˆÐ¸Ñ… Ñ‚Ñ€Ñ‘Ñ… ÑÐ¿Ð¾Ñ€Ñ‚ÑÐ¼ÐµÐ½Ð¾Ð² Ð²Ñ‹ÑÑ‚Ñ€ÐµÐ»Ð¸Ñ‚ÑŒ Ð½Ð¸ÐºÑ‚Ð¾ Ð½Ðµ Ð¼Ð¾Ð³. Ð’ Ñ‚Ð°ÐºÐ¾Ð¼ ÑÐ»ÑƒÑ‡Ð°Ðµ\n",
    "$$P(A) = P(A | B_1) \\cdot P(B_1) + P(A | B_2) \\cdot P(B_2) + P(A | B_3) \\cdot P(B_3).$$\n",
    "\n",
    "Ð˜Ð¼ÐµÐµÐ¼:\n",
    "$$P(A) = 0.2 \\cdot \\dfrac{1}{3} + 0.4 \\cdot \\dfrac{1}{3} + 0.7 \\cdot \\dfrac{1}{3} = \\dfrac{13}{30}$$\n",
    "\n",
    "Ð˜Ñ‚Ð°Ðº, Ð¸ÑÐºÐ¾Ð¼Ð°Ñ Ð²ÐµÑ€Ð¾ÑÑ‚Ð½Ð¾ÑÑ‚ÑŒ:\n",
    "$$P(B_3|A) = \\dfrac{0.7 \\cdot \\frac{1}{3}}{\\frac{13}{30}} = \\frac{7}{13} \\approx 0.5385$$"
   ]
  },
  {
   "cell_type": "code",
   "execution_count": 41,
   "metadata": {},
   "outputs": [
    {
     "data": {
      "text/plain": [
       "0.5384615384615384"
      ]
     },
     "execution_count": 41,
     "metadata": {},
     "output_type": "execute_result"
    }
   ],
   "source": [
    "7 / 13"
   ]
  },
  {
   "cell_type": "markdown",
   "metadata": {},
   "source": [
    "__(Ð”Ð¾Ð¿Ð¾Ð»Ð½Ð¸Ñ‚ÐµÐ»ÑŒÐ½Ð¾) ÐÐ°Ð¸Ð²Ð½Ñ‹Ð¹ Ð‘Ð°Ð¹ÐµÑÐ¾Ð²ÑÐºÐ¸Ð¹ ÐºÐ»Ð°ÑÑÐ¸Ñ„Ð¸ÐºÐ°Ñ‚Ð¾Ñ€__\n",
    "\n",
    "Ð¤Ð¾Ñ€Ð¼ÑƒÐ»Ð° Ð‘Ð°Ð¹ÐµÑÐ° ÑÐ²Ð»ÑÐµÑ‚ÑÑ Ð¾ÑÐ½Ð¾Ð²Ð¾Ð¹ Ð´Ð»Ñ Ð¾Ð´Ð½Ð¾Ð¹ Ð¸Ð· Ð¼Ð¾Ð´ÐµÐ»ÐµÐ¹ Ð¼Ð°ÑˆÐ¸Ð½Ð½Ð¾Ð³Ð¾ Ð¾Ð±ÑƒÑ‡ÐµÐ½Ð¸Ñ, Ñ€ÐµÑˆÐ°ÑŽÑ‰Ð¸Ñ… Ð·Ð°Ð´Ð°Ñ‡Ñƒ ÐºÐ»Ð°ÑÑÐ¸Ñ„Ð¸ÐºÐ°Ñ†Ð¸Ð¸: ÐÐ°Ð¸Ð²Ð½Ð¾Ð³Ð¾ Ð‘Ð°Ð¹ÐµÑÐ¾Ð²ÑÐºÐ¾Ð³Ð¾ ÐºÐ»Ð°ÑÑÐ¸Ñ„Ð¸ÐºÐ°Ñ‚Ð¾Ñ€Ð° (Naive Bayes classifier). \n",
    "\n",
    "Ð”Ð¾Ð¿ÑƒÑÑ‚Ð¸Ð¼, Ð¸Ð¼ÐµÐµÑ‚ÑÑ Ð½Ð°Ð±Ð¾Ñ€ Ð¾Ð±ÑŠÐµÐºÑ‚Ð¾Ð² $X = (x_1, x_2, \\dots, x_m)$ Ñ Ð¿Ñ€Ð¸Ð·Ð½Ð°ÐºÐ°Ð¼Ð¸ $x_1$, $\\dots$, $x_m$, Ð¿Ñ€Ð¸Ñ‡Ñ‘Ð¼ ÐºÐ°Ð¶Ð´Ð¾Ð¼Ñƒ Ð¾Ð±ÑŠÐµÐºÑ‚Ñƒ $X_i$ Ð¿Ñ€Ð¸Ð¿Ð¸ÑÐ°Ð½Ð° Ð¼ÐµÑ‚ÐºÐ° ÐºÐ»Ð°ÑÑÐ° $c_i$. Ð‘Ð°Ð¹ÐµÑÐ¾Ð²ÑÐºÐ¸Ð¹ ÐºÐ»Ð°ÑÑÐ¸Ñ„Ð¸ÐºÐ°Ñ‚Ð¾Ñ€ Ð¾ÑÐ½Ð¾Ð²Ð°Ð½ Ð½Ð° Ð·Ð°Ð²Ð¸ÑÐ¸Ð¼Ð¾ÑÑ‚Ð¸ Ð¼ÐµÐ¶Ð´Ñƒ Ð´Ð²ÑƒÐ¼Ñ Ð²ÐµÑ€Ð¾ÑÑ‚Ð½Ð¾ÑÑ‚ÑÐ¼Ð¸:\n",
    "1. $P(c \\mid x_1, \\dots, x_m)$, Ñ‚.Ðµ. Ð²ÐµÑ€Ð¾ÑÑ‚Ð½Ð¾ÑÑ‚ÑŒ, Ñ‡Ñ‚Ð¾ Ð¾Ð±ÑŠÐµÐºÑ‚ Ñ Ð¿Ñ€Ð¸Ð·Ð½Ð°ÐºÐ°Ð¼Ð¸ $x_1$, $\\dots$, $x_m$ Ð±ÑƒÐ´ÐµÑ‚ Ð¸Ð¼ÐµÑ‚ÑŒ Ð¼ÐµÑ‚ÐºÑƒ ÐºÐ»Ð°ÑÑÐ° $c$,\n",
    "2. $P(x_1, \\dots, x_m \\mid c)$ â€” Ð²ÐµÑ€Ð¾ÑÑ‚Ð½Ð¾ÑÑ‚ÑŒ Ñ‚Ð¾Ð³Ð¾, Ð¾Ð±ÑŠÐµÐºÑ‚, Ð²Ð·ÑÑ‚Ñ‹Ð¹ ÑÐ»ÑƒÑ‡Ð°Ð¹Ð½Ñ‹Ð¼ Ð¾Ð±Ñ€Ð°Ð·Ð¾Ð¼ Ð¸Ð· ÐºÐ»Ð°ÑÑÐ° $C$ Ð±ÑƒÐ´ÐµÑ‚ Ð¾Ð±Ð»Ð°Ð´Ð°Ñ‚ÑŒ Ð¿Ñ€Ð¸Ð·Ð½Ð°ÐºÐ°Ð¼Ð¸ $x_1$, $\\dots$, $x_m$.\n",
    "\n",
    "Ð’Ð·Ð°Ð¸Ð¼Ð¾ÑÐ²ÑÐ·ÑŒ Ð¼ÐµÐ¶Ð´Ñƒ ÑÑ‚Ð¸Ð¼Ð¸ Ð²ÐµÑ€Ð¾ÑÑ‚Ð½Ð¾ÑÑ‚ÑÐ¼Ð¸ Ð¿Ð¾Ð´Ñ‡Ð¸Ð½ÑÐµÑ‚ÑÑ Ñ„Ð¾Ñ€Ð¼ÑƒÐ»Ðµ Ð‘Ð°Ð¹ÐµÑÐ°:\n",
    "$$P(c \\mid x_1, \\dots, x_m) = \\dfrac{P(x_1, \\dots, x_m \\mid c) \\cdot P(c)}{P(x_1, \\dots, x_m)}$$\n",
    "\n",
    "Ð¡Ð¾Ð±ÑÑ‚Ð²ÐµÐ½Ð½Ð¾, Ð‘Ð°Ð¹ÐµÑÐ¾Ð²ÑÐºÐ¸Ð¹ ÐºÐ»Ð°ÑÑÐ¸Ñ„Ð¸ÐºÐ°Ñ‚Ð¾Ñ€ Ð¾Ð¿Ñ€ÐµÐ´ÐµÐ»ÑÐµÑ‚ÑÑ ÑÐ»ÐµÐ´ÑƒÑŽÑ‰Ð¸Ð¼ Ð¾Ð±Ñ€Ð°Ð·Ð¾Ð¼:\n",
    "$$C(X) = \\arg\\max_c P(c \\mid X),$$\n",
    "Ñ‚.Ðµ. Ð¾Ð±ÑŠÐµÐºÑ‚ $X$ Ð¿Ñ€Ð¸Ñ‡Ð¸ÑÐ»ÑÐµÐ¼ Ðº Ñ‚Ð¾Ð¼Ñƒ ÐºÐ»Ð°ÑÑÑƒ $c$, Ð´Ð»Ñ ÐºÐ¾Ñ‚Ð¾Ñ€Ð¾Ð³Ð¾ ÑƒÐºÐ°Ð·Ð°Ð½Ð½Ð°Ñ Ð²Ñ‹ÑˆÐµ Ð²ÐµÑ€Ð¾ÑÑ‚Ð½Ð¾ÑÑ‚ÑŒ Ð¼Ð°ÐºÑÐ¸Ð¼Ð°Ð»ÑŒÐ½Ð°.\n",
    "\n",
    "ÐŸÐ¾Ñ‡ÐµÐ¼Ñƒ ÐºÐ»Ð°ÑÑÐ¸Ñ„Ð¸ÐºÐ°Ñ‚Ð¾Ñ€ Ð½Ð°Ð·Ñ‹Ð²Ð°ÐµÑ‚ÑÑ Ð½Ð°Ð¸Ð²Ð½Ñ‹Ð¼? Ð’ ÑƒÐºÐ°Ð·Ð°Ð½Ð½Ð¾Ð¹ Ð²Ñ‹ÑˆÐµ Ñ„Ð¾Ñ€Ð¼ÑƒÐ»Ðµ Ð½ÐµÑ‚ Ð½Ð¸ÐºÐ°ÐºÐ¾Ð¹ Ð½Ð°Ð¸Ð²Ð½Ð¾ÑÑ‚Ð¸. ÐžÐ´Ð½Ð°ÐºÐ¾, Ð¾Ñ†ÐµÐ½ÐºÐ° Ð²ÐµÑ€Ð¾ÑÑ‚Ð½Ð¾ÑÑ‚Ð¸ $P(c \\mid x_1, \\dots, x_m)$ Ð±ÐµÐ· Ð´Ð¾Ð¿Ð¾Ð»Ð½Ð¸Ñ‚ÐµÐ»ÑŒÐ½Ñ‹Ñ… ÑƒÑÐ»Ð¾Ð²Ð¸Ð¹ ÑÐ²Ð»ÑÐµÑ‚ÑÑ ÐºÑ€Ð°Ð¹Ð½Ðµ ÑÐ»Ð¾Ð¶Ð½Ð¾Ð¹ Ð·Ð°Ð´Ð°Ñ‡ÐµÐ¹. Ð”Ð»Ñ Ñ‚Ð¾Ð³Ð¾, Ñ‡Ñ‚Ð¾Ð±Ñ‹ ÑƒÐ¿Ñ€Ð¾ÑÑ‚Ð¸Ñ‚ÑŒ ÑÑ‚Ñƒ Ð¾Ñ†ÐµÐ½ÐºÑƒ, Ð½Ð° Ñ€Ð°ÑÑÐ¼Ð°Ñ‚Ñ€Ð¸Ð²Ð°ÐµÐ¼Ñ‹Ðµ Ð¿Ñ€Ð¸Ð·Ð½Ð°ÐºÐ¸ Ð½Ð°ÐºÐ»Ð°Ð´Ñ‹Ð²Ð°ÐµÑ‚ÑÑ ÑƒÑÐ»Ð¾Ð²Ð¸Ðµ __Ð½ÐµÐ·Ð°Ð²Ð¸ÑÐ¸Ð¼Ð¾ÑÑ‚Ð¸__. (Ð­Ñ‚Ð¾ ÑƒÑÐ»Ð¾Ð²Ð¸Ðµ Ð¸ ÑÐ²Ð»ÑÐµÑ‚ÑÑ ÐºÑ€Ð°Ð¹Ð½Ðµ Ð½Ð°Ð¸Ð²Ð½Ñ‹Ð¼, Ð¿Ð¾ÑÐºÐ¾Ð»ÑŒÐºÑƒ Ð² Ð¾Ð±Ñ‰ÐµÐ¼ ÑÐ»ÑƒÑ‡Ð°Ðµ Ð¾Ð¶Ð¸Ð´Ð°Ñ‚ÑŒ Ð½ÐµÐ·Ð°Ð²Ð¸ÑÐ¸Ð¼Ð¾ÑÑ‚Ð¸ Ð¿Ñ€Ð¸Ð·Ð½Ð°ÐºÐ¾Ð² Ð½ÐµÑ‚ Ð½Ð¸ÐºÐ°ÐºÐ¸Ñ… Ð¾ÑÐ½Ð¾Ð²Ð°Ð½Ð¸Ð¹.) ÐšÐ°Ðº Ð¼Ñ‹ ÑƒÑÑ‚Ð°Ð½Ð¾Ð²Ð¸Ð»Ð¸ Ð²Ñ‹ÑˆÐµ, ÑƒÑÐ»Ð¾Ð²Ð¸Ðµ Ð½ÐµÐ·Ð°Ð²Ð¸ÑÐ¸Ð¼Ð¾ÑÑ‚Ð¸ Ð´Ð°Ñ‘Ñ‚ Ð½Ð°Ð¼ Ð²Ð¾Ð·Ð¼Ð¾Ð¶Ð½Ð¾ÑÑ‚ÑŒ Ñ€Ð°Ð·Ð±Ð¸Ð²Ð°Ñ‚ÑŒ Ð²ÐµÑ€Ð¾ÑÑ‚Ð½Ð¾ÑÑ‚Ð¸ Ð²Ð¸Ð´Ð° $P(x_1, \\dots, x_m \\mid c)$ Ð² Ð¿Ñ€Ð¾Ð¸Ð·Ð²ÐµÐ´ÐµÐ½Ð¸Ñ $P(x_1 \\mid c) \\cdots P(x_m \\mid c)$, Ñ‡Ñ‚Ð¾ Ð¸Ð·Ñ€ÑÐ´Ð½Ð¾ ÑƒÐ¿Ñ€Ð¾Ñ‰Ð°ÐµÑ‚ Ð²Ñ‹Ñ‡Ð¸ÑÐ»ÐµÐ½Ð¸Ðµ.\n",
    "\n",
    "ÐšÑ€Ð¾Ð¼Ðµ Ñ‚Ð¾Ð³Ð¾, Ð² ÑÐ°Ð¼Ð¾Ð¼ ÐºÐ»Ð°ÑÑÐ¸Ñ„Ð¸ÐºÐ°Ñ‚Ð¾Ñ€Ðµ Ñ‚Ð°ÐºÐ¶Ðµ Ð¸Ð·Ð±Ð°Ð²Ð»ÑÑŽÑ‚ÑÑ Ð¾Ñ‚ Ð·Ð½Ð°Ð¼ÐµÐ½Ð°Ñ‚ÐµÐ»Ñ $P(x_1, \\dots, x_m)$, Ð¿Ð¾ÑÐºÐ¾Ð»ÑŒÐºÑƒ Ð´Ð°Ð½Ð½Ð°Ñ Ð²ÐµÑ€Ð¾ÑÑ‚Ð½Ð¾ÑÑ‚ÑŒ Ð¾Ð´Ð¸Ð½Ð°ÐºÐ¾Ð²Ð° Ð´Ð»Ñ Ð»ÑŽÐ±Ð¾Ð³Ð¾ Ð¾Ð±ÑŠÐµÐºÑ‚Ð° Ð¸ Ð½Ð¸ÐºÐ°Ðº Ð½Ðµ Ð²Ð»Ð¸ÑÐµÑ‚ Ð½Ð° Ð²ÐµÑ€Ð¾ÑÑ‚Ð½Ð¾ÑÑ‚ÑŒ Ð¿Ñ€Ð¸Ð½Ð°Ð´Ð»ÐµÐ¶Ð°Ñ‚ÑŒ Ðº ÐºÐ¾Ð½ÐºÑ€ÐµÑ‚Ð½Ð¾Ð¼Ñƒ ÐºÐ»Ð°ÑÑÑƒ. Ð˜Ñ‚Ð°Ðº, Ð¸Ñ‚Ð¾Ð³Ð¾Ð²Ð°Ñ ÐºÐ»Ð°ÑÑÐ¸Ñ„Ð¸ÐºÐ°Ñ†Ð¸Ð¾Ð½Ð½Ð°Ñ Ð¼Ð¾Ð´ÐµÐ»ÑŒ:\n",
    "$$C(X) = \\arg\\max_c \\left( P(c) \\cdot \\displaystyle\\prod_X P(x_1 \\mid c) \\cdots P(x_m \\mid c) \\right)$$\n",
    "\n",
    "Ð”Ð»Ñ Ð¾Ð±ÑƒÑ‡ÐµÐ½Ð¸Ñ Ð²ÐµÑ€Ð¾ÑÑ‚Ð½Ð¾ÑÑ‚ÐµÐ¹ $P(x_i \\mid c)$, ÐºÐ°Ðº Ð¿Ñ€Ð°Ð²Ð¸Ð»Ð¾, Ð¸ÑÐ¿Ð¾Ð»ÑŒÐ·ÑƒÑŽÑ‚ Ð´Ð¾Ð¿Ð¾Ð»Ð½Ð¸Ñ‚ÐµÐ»ÑŒÐ½Ñ‹Ðµ Ð¿Ñ€ÐµÐ´Ð¿Ð¾Ð»Ð¾Ð¶ÐµÐ½Ð¸Ñ Ð¾ Ñ€Ð°ÑÐ¿Ñ€ÐµÐ´ÐµÐ»ÐµÐ½Ð¸Ð¸ Ð¾Ñ‚Ð´ÐµÐ»ÑŒÐ½Ñ‹Ñ… Ð¿Ñ€Ð¸Ð·Ð½Ð°ÐºÐ¾Ð², Ð½Ð°Ð¸Ð±Ð¾Ð»ÐµÐµ Ð¿Ð¾Ð¿ÑƒÐ»ÑÑ€Ð½Ð° Ð¼Ð¾Ð´ÐµÐ»ÑŒ Ð“Ð°ÑƒÑÑÐ¾Ð² Ð‘Ð°Ð¹ÐµÑÐ¾Ð²ÑÐºÐ¸Ð¹ ÐºÐ»Ð°ÑÑÐ¸Ñ„Ð¸ÐºÐ°Ñ‚Ð¾Ñ€ (Gaussian Bayes classifier), Ð¿Ñ€ÐµÐ´Ð¿Ð¾Ð»Ð°Ð³Ð°ÑŽÑ‰Ð¸Ð¹ Ð½Ð¾Ñ€Ð¼Ð°Ð»ÑŒÐ½Ð¾Ðµ Ñ€Ð°ÑÐ¿Ñ€ÐµÐ´ÐµÐ»ÐµÐ½Ð¸Ðµ Ð¿Ñ€Ð¸Ð·Ð½Ð°ÐºÐ¾Ð². Ðž Ð½Ð¾Ñ€Ð¼Ð°Ð»ÑŒÐ½Ð¾Ð¼ Ñ€Ð°ÑÐ¿Ñ€ÐµÐ´ÐµÐ»ÐµÐ½Ð¸Ð¸ Ð¼Ñ‹ Ð¿Ð¾Ð³Ð¾Ð²Ð¾Ñ€Ð¸Ð¼ Ð½Ð° Ð·Ð°Ð½ÑÑ‚Ð¸Ð¸ 4."
   ]
  },
  {
   "cell_type": "markdown",
   "metadata": {},
   "source": [
    "### Ð£Ð¿Ñ€Ð°Ð¶Ð½ÐµÐ½Ð¸Ñ"
   ]
  },
  {
   "cell_type": "markdown",
   "metadata": {},
   "source": [
    "__Ð—Ð°Ð´Ð°Ñ‡Ð° 1__\n",
    "\n",
    "ÐŸÐ¾Ð´Ð±Ñ€Ð°ÑÑ‹Ð²Ð°ÑŽÑ‚ÑÑ Ñ‚Ñ€Ð¸ Ð¸Ð³Ñ€Ð°Ð»ÑŒÐ½Ñ‹Ñ… ÐºÑƒÐ±Ð¸ÐºÐ°. ÐžÑ†ÐµÐ½Ð¸Ñ‚Ðµ Ð²ÐµÑ€Ð¾ÑÑ‚Ð½Ð¾ÑÑ‚ÑŒ Ñ‚Ð¾Ð³Ð¾, Ñ‡Ñ‚Ð¾ ÑÑƒÐ¼Ð¼Ð° Ð·Ð½Ð°Ñ‡ÐµÐ½Ð¸Ð¹ ÑÑ‚Ð¸Ñ… ÐºÑƒÐ±Ð¸ÐºÐ¾Ð² Ð½Ðµ Ð±ÑƒÐ´ÐµÑ‚ Ð¿Ñ€ÐµÐ²Ñ‹ÑˆÐ°Ñ‚ÑŒ 10.\n",
    "\n",
    "_ÐŸÐ¾Ð´ÑÐºÐ°Ð·ÐºÐ°_: Ð¾Ñ†ÐµÐ½ÐºÐ¾Ð¹ Ð²ÐµÑ€Ð¾ÑÑ‚Ð½Ð¾ÑÑ‚Ð¸ Ð¼Ð¾Ð¶ÐµÑ‚ ÑÐ»ÑƒÐ¶Ð¸Ñ‚ÑŒ, Ð½Ð°Ð¿Ñ€Ð¸Ð¼ÐµÑ€, Ð¾Ñ‚Ð½Ð¾ÑÐ¸Ñ‚ÐµÐ»ÑŒÐ½Ð°Ñ Ñ‡Ð°ÑÑ‚Ð¾Ñ‚Ð° Ð¿Ñ€Ð¸ Ð±Ð¾Ð»ÑŒÑˆÐ¾Ð¼ Ñ‡Ð¸ÑÐ»Ðµ Ð¾Ð¿Ñ‹Ñ‚Ð¾Ð². ÐŸÐ¾Ð¿Ñ€Ð¾Ð±ÑƒÐ¹Ñ‚Ðµ Ñ€ÐµÐ°Ð»Ð¸Ð·Ð¾Ð²Ð°Ñ‚ÑŒ Ð½Ð°Ð¸Ð±Ð¾Ð»ÑŒÑˆÐµÐµ Ñ‡Ð¸ÑÐ»Ð¾ Ð¾Ð¿Ñ‹Ñ‚Ð¾Ð², ÐºÐ¾Ñ‚Ð¾Ñ€Ð¾Ðµ Ð¿Ð¾Ð·Ð²Ð¾Ð»ÑÑŽÑ‚ Ð²Ð°Ñˆ ÐºÐ¾Ð¼Ð¿ÑŒÑŽÑ‚ÐµÑ€ Ð¸ Ð²Ð°ÑˆÐµ Ñ‚ÐµÑ€Ð¿ÐµÐ½Ð¸Ðµ.\n",
    "\n",
    "__Ð—Ð°Ð´Ð°Ñ‡Ð° 2__\n",
    "\n",
    "Ð˜Ð¼ÐµÐµÑ‚ÑÑ ÐºÐ¾Ð»Ð¾Ð´Ð° Ð² 52 ÐºÐ°Ñ€Ñ‚Ñ‹. ÐÐ°Ð¹Ñ‚Ð¸ Ñ‡Ð¸ÑÐ»Ð¾ Ð²Ð¾Ð·Ð¼Ð¾Ð¶Ð½Ð¾ÑÑ‚ÐµÐ¹ Ð²Ñ‹Ñ‚ÑÐ½ÑƒÑ‚ÑŒ Ð¸Ð· Ð½ÐµÑ‘ 4 ÐºÐ°Ñ€Ñ‚Ñ‹ Ñ‚Ð°Ðº, Ñ‡Ñ‚Ð¾Ð±Ñ‹ ÑÑ€ÐµÐ´Ð¸ Ð½Ð¸Ñ… Ð±Ñ‹Ð» Ñ…Ð¾Ñ‚Ñ Ð±Ñ‹ Ð¾Ð´Ð¸Ð½ Ñ‚ÑƒÐ·.\n",
    "\n",
    "__Ð—Ð°Ð´Ð°Ñ‡Ð° 3__\n",
    "\n",
    "Ð˜Ð· 60 Ð²Ð¾Ð¿Ñ€Ð¾ÑÐ¾Ð², Ð²Ñ…Ð¾Ð´ÑÑ‰Ð¸Ñ… Ð² ÑÐºÐ·Ð°Ð¼ÐµÐ½Ð°Ñ†Ð¸Ð¾Ð½Ð½Ñ‹Ðµ Ð±Ð¸Ð»ÐµÑ‚Ñ‹, ÑÑ‚ÑƒÐ´ÐµÐ½Ñ‚ Ð·Ð½Ð°ÐµÑ‚ 50. ÐšÐ°ÐºÐ¾Ð²Ð° Ð²ÐµÑ€Ð¾ÑÑ‚Ð½Ð¾ÑÑ‚ÑŒ Ñ‚Ð¾Ð³Ð¾, Ñ‡Ñ‚Ð¾ ÑÑ€ÐµÐ´Ð¸ Ñ‚Ñ€Ñ‘Ñ… Ð½Ð°ÑƒÐ³Ð°Ð´ Ð²Ñ‹Ð±Ñ€Ð°Ð½Ð½Ñ‹Ñ… Ð²Ð¾Ð¿Ñ€Ð¾ÑÐ¾Ð² ÑÑ‚ÑƒÐ´ÐµÐ½Ñ‚ Ð·Ð½Ð°ÐµÑ‚: Ð°) Ð²ÑÐµ? Ð±) Ð´Ð²Ð°?\n",
    "\n",
    "__Ð—Ð°Ð´Ð°Ñ‡Ð° 4__\n",
    "\n",
    "Ð‘Ñ€Ð¾ÑÐ°ÐµÑ‚ÑÑ Ð¸Ð³Ñ€Ð°Ð»ÑŒÐ½Ð°Ñ ÐºÐ¾ÑÑ‚ÑŒ. ÐŸÑƒÑÑ‚ÑŒ ÑÐ¾Ð±Ñ‹Ñ‚Ð¸Ðµ `A` - Ð¿Ð¾ÑÐ²Ð»ÐµÐ½Ð¸Ðµ Ñ‡Ñ‘Ñ‚Ð½Ð¾Ð³Ð¾ Ñ‡Ð¸ÑÐ»Ð°, ÑÐ¾Ð±Ñ‹Ñ‚Ð¸Ðµ `B` - Ð¿Ð¾ÑÐ²Ð»ÐµÐ½Ð¸Ðµ Ñ‡Ð¸ÑÐ»Ð° Ð±Ð¾Ð»ÑŒÑˆÐµ Ñ‚Ñ€Ñ‘Ñ…. Ð¯Ð²Ð»ÑÑŽÑ‚ÑÑ Ð»Ð¸ ÑÑ‚Ð¸ ÑÐ¾Ð±Ñ‹Ñ‚Ð¸Ñ Ð½ÐµÐ·Ð°Ð²Ð¸ÑÐ¸Ð¼Ñ‹Ð¼Ð¸?\n",
    "\n",
    "__Ð—Ð°Ð´Ð°Ñ‡Ð° 5__\n",
    "\n",
    "Ð”Ð¾Ð¿ÑƒÑÑ‚Ð¸Ð¼, Ð¸Ð¼ÐµÐµÑ‚ÑÑ Ð½ÐµÐºÐ¾Ñ‚Ð¾Ñ€Ð°Ñ Ð¾Ñ‡ÐµÐ½ÑŒ Ñ€ÐµÐ´ÐºÐ°Ñ Ð±Ð¾Ð»ÐµÐ·Ð½ÑŒ (Ð¿Ð¾Ñ€Ð°Ð¶Ð°ÐµÑ‚ 0.1% Ð½Ð°ÑÐµÐ»ÐµÐ½Ð¸Ñ). Ð’Ñ‹ Ð¿Ñ€Ð¸Ñ…Ð¾Ð´Ð¸Ñ‚Ðµ Ðº Ð²Ñ€Ð°Ñ‡Ñƒ, Ð²Ð°Ð¼ Ð´ÐµÐ»Ð°ÑŽÑ‚ Ñ‚ÐµÑÑ‚ Ð½Ð° ÑÑ‚Ñƒ Ð±Ð¾Ð»ÐµÐ·Ð½ÑŒ, Ð¸ Ñ‚ÐµÑÑ‚ Ð¾ÐºÐ°Ð·Ñ‹Ð²Ð°ÐµÑ‚ÑÑ Ð¿Ð¾Ð»Ð¾Ð¶Ð¸Ñ‚ÐµÐ»ÑŒÐ½Ñ‹Ð¼. Ð’Ñ€Ð°Ñ‡ Ð³Ð¾Ð²Ð¾Ñ€Ð¸Ñ‚ Ð²Ð°Ð¼, Ñ‡Ñ‚Ð¾ ÑÑ‚Ð¾Ñ‚ Ñ‚ÐµÑÑ‚ Ð²ÐµÑ€Ð½Ð¾ Ð²Ñ‹ÑÐ²Ð»ÑÐµÑ‚ 99% Ð±Ð¾Ð»ÑŒÐ½Ñ‹Ñ… ÑÑ‚Ð¾Ð¹ Ð±Ð¾Ð»ÐµÐ·Ð½ÑŒÑŽ Ð¸ Ð²ÑÐµÐ³Ð¾ Ð»Ð¸ÑˆÑŒ Ð² 1% ÑÐ»ÑƒÑ‡Ð°ÐµÐ² Ð´Ð°Ñ‘Ñ‚ Ð»Ð¾Ð¶Ð½Ñ‹Ð¹ Ð¿Ð¾Ð»Ð¾Ð¶Ð¸Ñ‚ÐµÐ»ÑŒÐ½Ñ‹Ð¹ Ð¾Ñ‚Ð²ÐµÑ‚.\n",
    "\n",
    "_Ð’Ð¾Ð¿Ñ€Ð¾Ñ_: ÐºÐ°ÐºÐ¾Ð²Ð° Ð²ÐµÑ€Ð¾ÑÑ‚Ð½Ð¾ÑÑ‚ÑŒ, Ñ‡Ñ‚Ð¾ Ð²Ñ‹ Ð´ÐµÐ¹ÑÑ‚Ð²Ð¸Ñ‚ÐµÐ»ÑŒÐ½Ð¾ Ð±Ð¾Ð»ÑŒÐ½Ñ‹ ÐµÐ¹?\n",
    "\n",
    "_ÐŸÐ¾Ð´ÑÐºÐ°Ð·ÐºÐ°_: Ð¸ÑÐ¿Ð¾Ð»ÑŒÐ·ÑƒÐ¹Ñ‚Ðµ Ñ„Ð¾Ñ€Ð¼ÑƒÐ»Ñƒ Ð‘Ð°Ð¹ÐµÑÐ° Ñ Ñ€Ð°ÑÐºÑ€Ñ‹Ñ‚Ð¸ÐµÐ¼ Ð·Ð½Ð°Ð¼ÐµÐ½Ð°Ñ‚ÐµÐ»Ñ Ñ Ð¿Ð¾Ð¼Ð¾Ñ‰ÑŒÑŽ Ñ„Ð¾Ñ€Ð¼ÑƒÐ»Ñ‹ Ð¿Ð¾Ð»Ð½Ð¾Ð¹ Ð²ÐµÑ€Ð¾ÑÑ‚Ð½Ð¾ÑÑ‚Ð¸."
   ]
  }
 ],
 "metadata": {
  "colab": {
   "name": "ÐœÐ°Ñ‚ÑÑ‚Ð°Ñ‚ - Ð£Ñ€Ð¾Ðº 1.ipynb",
   "provenance": [],
   "version": "0.3.2"
  },
  "kernelspec": {
   "display_name": "Python 3",
   "language": "python",
   "name": "python3"
  },
  "language_info": {
   "codemirror_mode": {
    "name": "ipython",
    "version": 3
   },
   "file_extension": ".py",
   "mimetype": "text/x-python",
   "name": "python",
   "nbconvert_exporter": "python",
   "pygments_lexer": "ipython3",
   "version": "3.8.5"
  }
 },
 "nbformat": 4,
 "nbformat_minor": 4
}
